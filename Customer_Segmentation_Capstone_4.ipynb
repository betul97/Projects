{
 "cells": [
  {
   "cell_type": "markdown",
   "metadata": {
    "id": "M2v-2JDuiqa0"
   },
   "source": [
    "# WELCOME TO OUR PROJECT!"
   ]
  },
  {
   "cell_type": "markdown",
   "metadata": {
    "id": "oLS5y2Jqiqa1"
   },
   "source": [
    "Welcome to \"RFM Customer Segmentation & Cohort Analysis Project\". This is the first project of the Capstone Project Series, which consists of 3 different project that contain different scenarios.\n",
    "\n",
    "This is a project which you will learn what is RFM? And how to apply RFM Analysis and Customer Segmentation using K-Means Clustering. Also you will improve your Data Cleaning, Data Visualization and Exploratory Data Analysis capabilities. On the other hand you will create Cohort and Conduct Cohort Analysis. \n",
    "\n",
    "Before diving into the project, please take a look at the determines and project structure.\n",
    "\n",
    "- **NOTE:** This Project assumes that you already know the basics of coding in Python and are familiar with the theory behind K-Means Clustering.\n",
    "\n"
   ]
  },
  {
   "cell_type": "markdown",
   "metadata": {
    "id": "4f_nfnSig77S"
   },
   "source": [
    "<img src = \"https://miro.medium.com/max/1400/1*fIdNbG1ZRM9JIitNkTJEfA.png\" width=\"700\" height=\"700\">"
   ]
  },
  {
   "cell_type": "markdown",
   "metadata": {
    "id": "1SCOFEfqiqa1"
   },
   "source": [
    "# #Determines\n",
    "\n",
    "Using the [Online Retail dataset](https://archive.ics.uci.edu/ml/datasets/Online+Retail) from the UCI Machine Learning Repository for exploratory data analysis, ***Customer Segmentation***, ***RFM Analysis***, ***K-Means Clustering*** and ***Cohort Analysis***.\n",
    "\n",
    "This is a transnational data set which contains all the transactions occurring between 01/12/2010 and 09/12/2011 for a UK-based and registered non-store online retail. The company mainly sells unique all-occasion gifts. Many customers of the company are wholesalers.\n",
    "\n",
    "Feature Information:\n",
    "\n",
    "**InvoiceNo**: Invoice number. *Nominal*, a 6-digit integral number uniquely assigned to each transaction. If this code starts with letter 'c', it indicates a cancellation. \n",
    "<br>\n",
    "**StockCode**: Product (item) code. *Nominal*, a 5-digit integral number uniquely assigned to each distinct product.\n",
    "<br>\n",
    "**Description**: Product (item) name. *Nominal*. \n",
    "<br>\n",
    "**Quantity**: The quantities of each product (item) per transaction. *Numeric*.\n",
    "<br>\n",
    "**InvoiceDate**: Invoice Date and time. *Numeric*, the day and time when each transaction was generated.\n",
    "<br>\n",
    "**UnitPrice**: Unit price. *Numeric*, Product price per unit in sterling.\n",
    "<br>\n",
    "**CustomerID**: Customer number. *Nominal*, a 5-digit integral number uniquely assigned to each customer.\n",
    "<br>\n",
    "**Country**: Country name. *Nominal*, the name of the country where each customer resides.\n",
    "\n",
    "\n",
    "---\n",
    "\n",
    "\n",
    "First of all, to observe the structure of the data and missing values, you can use exploratory data analysis and data visualization techniques.\n",
    "\n",
    "You must do descriptive analysis. Because you must understand the relationship of the features to each other and clear the noise and missing values in the data. After that, the data set will be ready for RFM analysis.\n",
    "\n",
    "Before starting the RFM Analysis, you will be asked to do some analysis regarding the distribution of *Orders*, *Customers* and *Countries*. These analyzes will help the company develop its sales policies and contribute to the correct use of resources.\n",
    "\n",
    "You will notice that the UK not only has the most sales revenue, but also the most customers. So you will continue to analyze only UK transactions in the next RFM Analysis, Customer Segmentation and K-Means Clustering topics.\n",
    "\n",
    "Next, you will begin RFM Analysis, a customer segmentation technique based on customers' past purchasing behavior. \n",
    "\n",
    "By using RFM Analysis, you can enable companies to develop different approaches to different customer segments so that they can get to know their customers better, observe trends better, and increase customer retention and sales revenues.\n",
    "\n",
    "You will calculate the Recency, Frequency and Monetary values of the customers in the RFM Analysis you will make using the data consisting of UK transactions. Ultimately, you have to create an RFM table containing these values.\n",
    "\n",
    "In the Customer Segmentation section, you will create an RFM Segmentation Table where you segment your customers by using the RFM table. For example, you can label the best customer as \"Big Spenders\" and the lost customer as \"Lost Customer\".\n",
    "\n",
    "We will segment the customers ourselves based on their recency, frequency, and monetary values. But can an **unsupervised learning** model do this better for us? You will use the K-Means algorithm to find the answer to this question. Then you will compare the classification made by the algorithm with the classification you have made yourself.\n",
    "\n",
    "Before applying K-Means Clustering, you should do data pre-processing. In this context, it will be useful to examine feature correlations and distributions. In addition, the data you apply for K-Means should be normalized.\n",
    "\n",
    "On the other hand, you should inform the K-means algorithm about the number of clusters it will predict. You will also try the *** Elbow method *** and *** Silhouette Analysis *** to find the optimum number of clusters.\n",
    "\n",
    "After the above operations, you will have made cluster estimation with K-Means. You should visualize the cluster distribution by using a scatter plot. You can observe the properties of the resulting clusters with the help of the boxplot. Thus you will be able to tag clusters and interpret results.\n",
    "\n",
    "Finally, you will do Cohort Analysis with the data you used at the beginning, regardless of the analysis you have done before. Cohort analysis is a subset of behavioral analytics that takes the user data and breaks them into related groups for analysis. This analysis can further be used to do customer segmentation and track metrics like retention, churn, and lifetime value.\n"
   ]
  },
  {
   "cell_type": "markdown",
   "metadata": {
    "id": "KQ62QseViqa2"
   },
   "source": [
    "# #Project Structures\n",
    "\n",
    "- Data Cleaning & Exploratory Data Analysis\n",
    "- RFM Analysis\n",
    "- Customer Segmentation\n",
    "- Applying K-Means Clustering\n",
    "- Create Cohort and Conduct Cohort Analysis"
   ]
  },
  {
   "cell_type": "markdown",
   "metadata": {
    "id": "wsPQ1tUwiqa2"
   },
   "source": [
    "# #Tasks\n",
    "\n",
    "#### 1. Data Cleaning & Exploratory Data Analysis\n",
    "\n",
    "- Import Modules, Load Data & Data Review\n",
    "- Follow the Steps Below\n",
    "\n",
    "    *i. Take a look at relationships between InvoiceNo, Quantity and UnitPrice columns.*\n",
    "    \n",
    "    *ii. What does the letter \"C\" in the invoiceno column mean?*\n",
    "    \n",
    "    *iii. Handling Missing Values*\n",
    "    \n",
    "    *iv. Clean the Data from the Noise and Missing Values*\n",
    "    \n",
    "    *v. Explore the Orders*\n",
    "    \n",
    "    *vi. Explore Customers by Country*\n",
    "    \n",
    "    *vii. Explore the UK Market*\n",
    "    \n",
    "#### 2. RFM Analysis\n",
    "\n",
    "- Follow the steps below\n",
    "\n",
    "   *i. Import Libraries*\n",
    "   \n",
    "   *ii. Review \"df_uk\" DataFrame (the df_uk what you create at the end of the Task 1)*\n",
    "   \n",
    "   *iii. Calculate Recency*\n",
    "   \n",
    "   *iv. Calculate Frequency*\n",
    "   \n",
    "   *v. Calculate Monetary Values*\n",
    "   \n",
    "   *vi. Create RFM Table*\n",
    "\n",
    "#### 3. Customer Segmentation with RFM Scores\n",
    "- Calculate RFM Scoring\n",
    "\n",
    "    *i. Creating the RFM Segmentation Table*\n",
    " \n",
    "- Plot RFM Segments\n",
    "\n",
    "#### 4. Applying K-Means Clustering\n",
    "- Data Pre-Processing and Exploring\n",
    "\n",
    "    *i. Define and Plot Feature Correlations*\n",
    " \n",
    "    *ii. Visualize Feature Distributions*\n",
    " \n",
    "    *iii. Data Normalization*\n",
    "\n",
    "- K-Means Implementation\n",
    "\n",
    "    *i. Define Optimal Cluster Number (K) by using \"Elbow Method\" and \"Silhouette Analysis\"*\n",
    " \n",
    "    *ii. Visualize the Clusters*\n",
    " \n",
    "    *iii. Assign the label*\n",
    " \n",
    "    *iv. Conclusion*\n",
    " \n",
    "#### 5. Create Cohort and Conduct Cohort Analysis\n",
    "- Future Engineering\n",
    "\n",
    "    *i. Extract the Month of the Purchase*\n",
    " \n",
    "    *ii. Calculating time offset in Months i.e. Cohort Index*\n",
    " \n",
    "- Create 1st Cohort: User Number & Retention Rate \n",
    "\n",
    "    *i. Pivot Cohort and Cohort Retention*\n",
    " \n",
    "    *ii. Visualize analysis of cohort 1 using seaborn and matplotlib*\n",
    "\n",
    "- Create 2nd Cohort: Average Quantity Sold \n",
    "\n",
    "    *i. Pivot Cohort and Cohort Retention*\n",
    " \n",
    "    *ii. Visualize analysis of cohort 2 using seaborn and matplotlib*\n",
    "\n",
    "- Create 3rd Cohort: Average Sales\n",
    "\n",
    "    *i. Pivot Cohort and Cohort Retention*\n",
    " \n",
    "    *ii. Visualize analysis of cohort 3 using seaborn and matplotlib*\n",
    "    \n",
    "- **Note: There may be sub-tasks associated with each task, you will see them in order during the course of the work.**\n"
   ]
  },
  {
   "cell_type": "markdown",
   "metadata": {
    "id": "k-NlVU1UQGVA"
   },
   "source": [
    "# 1. Data Cleaning & Exploratory Data Analysis"
   ]
  },
  {
   "cell_type": "markdown",
   "metadata": {
    "id": "L63G_-Dqiqa3"
   },
   "source": [
    "## Import Modules, Load Data & Data Review"
   ]
  },
  {
   "cell_type": "code",
   "execution_count": 1,
   "metadata": {
    "id": "6J1XlJLoOxdz"
   },
   "outputs": [],
   "source": [
    "import pandas as pd      \n",
    "import numpy as np \n",
    "import matplotlib.pyplot as plt\n",
    "import seaborn as sns\n",
    "\n",
    "import warnings\n",
    "warnings.filterwarnings('ignore')\n",
    "plt.rcParams[\"figure.figsize\"] = (7,4)\n",
    "pd.set_option('display.max_columns', 500)\n",
    "pd.set_option('display.max_rows', 500)"
   ]
  },
  {
   "cell_type": "code",
   "execution_count": 2,
   "metadata": {
    "colab": {
     "base_uri": "https://localhost:8080/",
     "height": 797
    },
    "id": "pP6RxrC1g77X",
    "outputId": "22e78e1d-4896-4410-ca08-c061c0d5d127"
   },
   "outputs": [
    {
     "ename": "FileNotFoundError",
     "evalue": "[Errno 2] No such file or directory: 'Online Retail.xlsx'",
     "output_type": "error",
     "traceback": [
      "\u001b[0;31m---------------------------------------------------------------------------\u001b[0m",
      "\u001b[0;31mFileNotFoundError\u001b[0m                         Traceback (most recent call last)",
      "Input \u001b[0;32mIn [2]\u001b[0m, in \u001b[0;36m<cell line: 1>\u001b[0;34m()\u001b[0m\n\u001b[0;32m----> 1\u001b[0m df \u001b[38;5;241m=\u001b[39m \u001b[43mpd\u001b[49m\u001b[38;5;241;43m.\u001b[39;49m\u001b[43mread_excel\u001b[49m\u001b[43m(\u001b[49m\u001b[38;5;124;43m\"\u001b[39;49m\u001b[38;5;124;43mOnline Retail.xlsx\u001b[39;49m\u001b[38;5;124;43m\"\u001b[39;49m\u001b[43m)\u001b[49m\n\u001b[1;32m      2\u001b[0m df\n",
      "File \u001b[0;32m~/opt/anaconda3/lib/python3.9/site-packages/pandas/util/_decorators.py:311\u001b[0m, in \u001b[0;36mdeprecate_nonkeyword_arguments.<locals>.decorate.<locals>.wrapper\u001b[0;34m(*args, **kwargs)\u001b[0m\n\u001b[1;32m    305\u001b[0m \u001b[38;5;28;01mif\u001b[39;00m \u001b[38;5;28mlen\u001b[39m(args) \u001b[38;5;241m>\u001b[39m num_allow_args:\n\u001b[1;32m    306\u001b[0m     warnings\u001b[38;5;241m.\u001b[39mwarn(\n\u001b[1;32m    307\u001b[0m         msg\u001b[38;5;241m.\u001b[39mformat(arguments\u001b[38;5;241m=\u001b[39marguments),\n\u001b[1;32m    308\u001b[0m         \u001b[38;5;167;01mFutureWarning\u001b[39;00m,\n\u001b[1;32m    309\u001b[0m         stacklevel\u001b[38;5;241m=\u001b[39mstacklevel,\n\u001b[1;32m    310\u001b[0m     )\n\u001b[0;32m--> 311\u001b[0m \u001b[38;5;28;01mreturn\u001b[39;00m \u001b[43mfunc\u001b[49m\u001b[43m(\u001b[49m\u001b[38;5;241;43m*\u001b[39;49m\u001b[43margs\u001b[49m\u001b[43m,\u001b[49m\u001b[43m \u001b[49m\u001b[38;5;241;43m*\u001b[39;49m\u001b[38;5;241;43m*\u001b[39;49m\u001b[43mkwargs\u001b[49m\u001b[43m)\u001b[49m\n",
      "File \u001b[0;32m~/opt/anaconda3/lib/python3.9/site-packages/pandas/io/excel/_base.py:457\u001b[0m, in \u001b[0;36mread_excel\u001b[0;34m(io, sheet_name, header, names, index_col, usecols, squeeze, dtype, engine, converters, true_values, false_values, skiprows, nrows, na_values, keep_default_na, na_filter, verbose, parse_dates, date_parser, thousands, decimal, comment, skipfooter, convert_float, mangle_dupe_cols, storage_options)\u001b[0m\n\u001b[1;32m    455\u001b[0m \u001b[38;5;28;01mif\u001b[39;00m \u001b[38;5;129;01mnot\u001b[39;00m \u001b[38;5;28misinstance\u001b[39m(io, ExcelFile):\n\u001b[1;32m    456\u001b[0m     should_close \u001b[38;5;241m=\u001b[39m \u001b[38;5;28;01mTrue\u001b[39;00m\n\u001b[0;32m--> 457\u001b[0m     io \u001b[38;5;241m=\u001b[39m \u001b[43mExcelFile\u001b[49m\u001b[43m(\u001b[49m\u001b[43mio\u001b[49m\u001b[43m,\u001b[49m\u001b[43m \u001b[49m\u001b[43mstorage_options\u001b[49m\u001b[38;5;241;43m=\u001b[39;49m\u001b[43mstorage_options\u001b[49m\u001b[43m,\u001b[49m\u001b[43m \u001b[49m\u001b[43mengine\u001b[49m\u001b[38;5;241;43m=\u001b[39;49m\u001b[43mengine\u001b[49m\u001b[43m)\u001b[49m\n\u001b[1;32m    458\u001b[0m \u001b[38;5;28;01melif\u001b[39;00m engine \u001b[38;5;129;01mand\u001b[39;00m engine \u001b[38;5;241m!=\u001b[39m io\u001b[38;5;241m.\u001b[39mengine:\n\u001b[1;32m    459\u001b[0m     \u001b[38;5;28;01mraise\u001b[39;00m \u001b[38;5;167;01mValueError\u001b[39;00m(\n\u001b[1;32m    460\u001b[0m         \u001b[38;5;124m\"\u001b[39m\u001b[38;5;124mEngine should not be specified when passing \u001b[39m\u001b[38;5;124m\"\u001b[39m\n\u001b[1;32m    461\u001b[0m         \u001b[38;5;124m\"\u001b[39m\u001b[38;5;124man ExcelFile - ExcelFile already has the engine set\u001b[39m\u001b[38;5;124m\"\u001b[39m\n\u001b[1;32m    462\u001b[0m     )\n",
      "File \u001b[0;32m~/opt/anaconda3/lib/python3.9/site-packages/pandas/io/excel/_base.py:1376\u001b[0m, in \u001b[0;36mExcelFile.__init__\u001b[0;34m(self, path_or_buffer, engine, storage_options)\u001b[0m\n\u001b[1;32m   1374\u001b[0m     ext \u001b[38;5;241m=\u001b[39m \u001b[38;5;124m\"\u001b[39m\u001b[38;5;124mxls\u001b[39m\u001b[38;5;124m\"\u001b[39m\n\u001b[1;32m   1375\u001b[0m \u001b[38;5;28;01melse\u001b[39;00m:\n\u001b[0;32m-> 1376\u001b[0m     ext \u001b[38;5;241m=\u001b[39m \u001b[43minspect_excel_format\u001b[49m\u001b[43m(\u001b[49m\n\u001b[1;32m   1377\u001b[0m \u001b[43m        \u001b[49m\u001b[43mcontent_or_path\u001b[49m\u001b[38;5;241;43m=\u001b[39;49m\u001b[43mpath_or_buffer\u001b[49m\u001b[43m,\u001b[49m\u001b[43m \u001b[49m\u001b[43mstorage_options\u001b[49m\u001b[38;5;241;43m=\u001b[39;49m\u001b[43mstorage_options\u001b[49m\n\u001b[1;32m   1378\u001b[0m \u001b[43m    \u001b[49m\u001b[43m)\u001b[49m\n\u001b[1;32m   1379\u001b[0m     \u001b[38;5;28;01mif\u001b[39;00m ext \u001b[38;5;129;01mis\u001b[39;00m \u001b[38;5;28;01mNone\u001b[39;00m:\n\u001b[1;32m   1380\u001b[0m         \u001b[38;5;28;01mraise\u001b[39;00m \u001b[38;5;167;01mValueError\u001b[39;00m(\n\u001b[1;32m   1381\u001b[0m             \u001b[38;5;124m\"\u001b[39m\u001b[38;5;124mExcel file format cannot be determined, you must specify \u001b[39m\u001b[38;5;124m\"\u001b[39m\n\u001b[1;32m   1382\u001b[0m             \u001b[38;5;124m\"\u001b[39m\u001b[38;5;124man engine manually.\u001b[39m\u001b[38;5;124m\"\u001b[39m\n\u001b[1;32m   1383\u001b[0m         )\n",
      "File \u001b[0;32m~/opt/anaconda3/lib/python3.9/site-packages/pandas/io/excel/_base.py:1250\u001b[0m, in \u001b[0;36minspect_excel_format\u001b[0;34m(content_or_path, storage_options)\u001b[0m\n\u001b[1;32m   1247\u001b[0m \u001b[38;5;28;01mif\u001b[39;00m \u001b[38;5;28misinstance\u001b[39m(content_or_path, \u001b[38;5;28mbytes\u001b[39m):\n\u001b[1;32m   1248\u001b[0m     content_or_path \u001b[38;5;241m=\u001b[39m BytesIO(content_or_path)\n\u001b[0;32m-> 1250\u001b[0m \u001b[38;5;28;01mwith\u001b[39;00m \u001b[43mget_handle\u001b[49m\u001b[43m(\u001b[49m\n\u001b[1;32m   1251\u001b[0m \u001b[43m    \u001b[49m\u001b[43mcontent_or_path\u001b[49m\u001b[43m,\u001b[49m\u001b[43m \u001b[49m\u001b[38;5;124;43m\"\u001b[39;49m\u001b[38;5;124;43mrb\u001b[39;49m\u001b[38;5;124;43m\"\u001b[39;49m\u001b[43m,\u001b[49m\u001b[43m \u001b[49m\u001b[43mstorage_options\u001b[49m\u001b[38;5;241;43m=\u001b[39;49m\u001b[43mstorage_options\u001b[49m\u001b[43m,\u001b[49m\u001b[43m \u001b[49m\u001b[43mis_text\u001b[49m\u001b[38;5;241;43m=\u001b[39;49m\u001b[38;5;28;43;01mFalse\u001b[39;49;00m\n\u001b[1;32m   1252\u001b[0m \u001b[43m\u001b[49m\u001b[43m)\u001b[49m \u001b[38;5;28;01mas\u001b[39;00m handle:\n\u001b[1;32m   1253\u001b[0m     stream \u001b[38;5;241m=\u001b[39m handle\u001b[38;5;241m.\u001b[39mhandle\n\u001b[1;32m   1254\u001b[0m     stream\u001b[38;5;241m.\u001b[39mseek(\u001b[38;5;241m0\u001b[39m)\n",
      "File \u001b[0;32m~/opt/anaconda3/lib/python3.9/site-packages/pandas/io/common.py:798\u001b[0m, in \u001b[0;36mget_handle\u001b[0;34m(path_or_buf, mode, encoding, compression, memory_map, is_text, errors, storage_options)\u001b[0m\n\u001b[1;32m    789\u001b[0m         handle \u001b[38;5;241m=\u001b[39m \u001b[38;5;28mopen\u001b[39m(\n\u001b[1;32m    790\u001b[0m             handle,\n\u001b[1;32m    791\u001b[0m             ioargs\u001b[38;5;241m.\u001b[39mmode,\n\u001b[0;32m   (...)\u001b[0m\n\u001b[1;32m    794\u001b[0m             newline\u001b[38;5;241m=\u001b[39m\u001b[38;5;124m\"\u001b[39m\u001b[38;5;124m\"\u001b[39m,\n\u001b[1;32m    795\u001b[0m         )\n\u001b[1;32m    796\u001b[0m     \u001b[38;5;28;01melse\u001b[39;00m:\n\u001b[1;32m    797\u001b[0m         \u001b[38;5;66;03m# Binary mode\u001b[39;00m\n\u001b[0;32m--> 798\u001b[0m         handle \u001b[38;5;241m=\u001b[39m \u001b[38;5;28;43mopen\u001b[39;49m\u001b[43m(\u001b[49m\u001b[43mhandle\u001b[49m\u001b[43m,\u001b[49m\u001b[43m \u001b[49m\u001b[43mioargs\u001b[49m\u001b[38;5;241;43m.\u001b[39;49m\u001b[43mmode\u001b[49m\u001b[43m)\u001b[49m\n\u001b[1;32m    799\u001b[0m     handles\u001b[38;5;241m.\u001b[39mappend(handle)\n\u001b[1;32m    801\u001b[0m \u001b[38;5;66;03m# Convert BytesIO or file objects passed with an encoding\u001b[39;00m\n",
      "\u001b[0;31mFileNotFoundError\u001b[0m: [Errno 2] No such file or directory: 'Online Retail.xlsx'"
     ]
    }
   ],
   "source": [
    "df = pd.read_excel(\"Online Retail.xlsx\")\n",
    "df"
   ]
  },
  {
   "cell_type": "code",
   "execution_count": null,
   "metadata": {
    "colab": {
     "base_uri": "https://localhost:8080/"
    },
    "id": "jcctY59Fg77Z",
    "outputId": "e2dc18df-c684-4d16-cfd4-ba1fabb07b95"
   },
   "outputs": [],
   "source": [
    "df.info()"
   ]
  },
  {
   "cell_type": "code",
   "execution_count": null,
   "metadata": {
    "colab": {
     "base_uri": "https://localhost:8080/"
    },
    "id": "pi_pu6N6g77a",
    "outputId": "d224336c-c689-4676-f3b2-3f93a6cc5c6a"
   },
   "outputs": [],
   "source": [
    "df.isnull().sum()"
   ]
  },
  {
   "cell_type": "code",
   "execution_count": null,
   "metadata": {
    "colab": {
     "base_uri": "https://localhost:8080/"
    },
    "id": "hmZNf6Oig77a",
    "outputId": "b0168181-303e-484c-8bba-2ce1e3b7c609"
   },
   "outputs": [],
   "source": [
    "df.duplicated().sum()"
   ]
  },
  {
   "cell_type": "code",
   "execution_count": null,
   "metadata": {
    "id": "qh2moM2Tg77b"
   },
   "outputs": [],
   "source": [
    "df.drop_duplicates(inplace = True)"
   ]
  },
  {
   "cell_type": "code",
   "execution_count": null,
   "metadata": {
    "colab": {
     "base_uri": "https://localhost:8080/"
    },
    "id": "xcvnjfQZg77b",
    "outputId": "49f6740b-3506-4ff1-e39c-64ca76907213"
   },
   "outputs": [],
   "source": [
    "df.shape"
   ]
  },
  {
   "cell_type": "markdown",
   "metadata": {
    "id": "_uqm7Pvug77b"
   },
   "source": [
    "### Invoice No"
   ]
  },
  {
   "cell_type": "markdown",
   "metadata": {
    "id": "rK3xa1u3g77c"
   },
   "source": [
    "> Invoice No :  Invoice number. Nominal, a 6-digit integral number uniquely assigned to each transaction. If this code starts with letter 'c', it indicates a cancellation."
   ]
  },
  {
   "cell_type": "code",
   "execution_count": null,
   "metadata": {
    "colab": {
     "base_uri": "https://localhost:8080/"
    },
    "id": "1XoswHcgg77c",
    "outputId": "8ad98056-1c5a-450e-ad18-70e4eec749b2"
   },
   "outputs": [],
   "source": [
    "df[\"InvoiceNo\"].value_counts()"
   ]
  },
  {
   "cell_type": "code",
   "execution_count": null,
   "metadata": {
    "id": "BMQDHHqig77d"
   },
   "outputs": [],
   "source": []
  },
  {
   "cell_type": "code",
   "execution_count": null,
   "metadata": {
    "colab": {
     "base_uri": "https://localhost:8080/",
     "height": 710
    },
    "id": "rBHaWOh6g77d",
    "outputId": "c0242424-3c17-4f1d-8353-414bae3968db",
    "scrolled": true
   },
   "outputs": [],
   "source": [
    "df[df[\"InvoiceNo\"].str.match(r'(^C.*)')==True] \n",
    "#df[df[\"InvoiceNo\"].str.startswith(\"C\")==True]"
   ]
  },
  {
   "cell_type": "code",
   "execution_count": null,
   "metadata": {
    "colab": {
     "base_uri": "https://localhost:8080/"
    },
    "id": "Zq1SZuGng77e",
    "outputId": "a015b5cf-d6c8-4ff1-e0d6-11260e62ed8f"
   },
   "outputs": [],
   "source": [
    "df[\"InvoiceNo\"].str.startswith(\"C\").value_counts(normalize = True)*100"
   ]
  },
  {
   "cell_type": "code",
   "execution_count": null,
   "metadata": {
    "colab": {
     "base_uri": "https://localhost:8080/",
     "height": 239
    },
    "id": "flehqbaCg77e",
    "outputId": "cfb7b5bb-5a15-42b2-d62b-a3d40215b984"
   },
   "outputs": [],
   "source": [
    "df[df[\"InvoiceNo\"].str.match(r'(^A.*)')==True]  "
   ]
  },
  {
   "cell_type": "markdown",
   "metadata": {
    "id": "3D-yysggg77f"
   },
   "source": [
    "### Stock Code"
   ]
  },
  {
   "cell_type": "markdown",
   "metadata": {
    "id": "J3z8AmFYg77f"
   },
   "source": [
    "> StockCode: Product (item) code. Nominal, a 5-digit integral number uniquely assigned to each distinct product."
   ]
  },
  {
   "cell_type": "code",
   "execution_count": null,
   "metadata": {
    "colab": {
     "base_uri": "https://localhost:8080/"
    },
    "id": "KH0xAOglg77f",
    "outputId": "84611cf5-810f-40a6-baaa-90259e5725b3"
   },
   "outputs": [],
   "source": [
    "df[\"StockCode\"].value_counts()"
   ]
  },
  {
   "cell_type": "code",
   "execution_count": null,
   "metadata": {
    "colab": {
     "base_uri": "https://localhost:8080/",
     "height": 641
    },
    "id": "2vLkNE8Cg77g",
    "outputId": "431430d2-6dac-4208-ecaa-03eac9d51817"
   },
   "outputs": [],
   "source": [
    "df[df[\"StockCode\"].str.match(r'(\\D)') == True] "
   ]
  },
  {
   "cell_type": "markdown",
   "metadata": {
    "id": "SO2Mcu1zg77g"
   },
   "source": [
    "### Description "
   ]
  },
  {
   "cell_type": "markdown",
   "metadata": {
    "id": "tV1hvbOQg77g"
   },
   "source": [
    "> Description: Product (item) name. Nominal."
   ]
  },
  {
   "cell_type": "code",
   "execution_count": null,
   "metadata": {
    "colab": {
     "base_uri": "https://localhost:8080/"
    },
    "id": "pBesQE0Eg77g",
    "outputId": "4ea3fbd6-230c-4cbd-be1b-a2d62c6a2cb4"
   },
   "outputs": [],
   "source": [
    "df.Description.value_counts()"
   ]
  },
  {
   "cell_type": "markdown",
   "metadata": {
    "id": "OeobmbkBg77h"
   },
   "source": [
    "### Quantity"
   ]
  },
  {
   "cell_type": "markdown",
   "metadata": {
    "id": "nNy7V1zag77h"
   },
   "source": [
    "> Quantity: The quantities of each product (item) per transaction. Numeric."
   ]
  },
  {
   "cell_type": "code",
   "execution_count": null,
   "metadata": {
    "colab": {
     "base_uri": "https://localhost:8080/"
    },
    "id": "peh8MZEeg77h",
    "outputId": "0944d83d-837c-4ac3-b5cd-26db03199088"
   },
   "outputs": [],
   "source": [
    "df[\"Quantity\"].value_counts().sort_index()"
   ]
  },
  {
   "cell_type": "code",
   "execution_count": null,
   "metadata": {
    "colab": {
     "base_uri": "https://localhost:8080/"
    },
    "id": "Wx2bhAbbg77h",
    "outputId": "6ca8d31a-33c9-4153-ff8a-9441488f2bf4"
   },
   "outputs": [],
   "source": [
    "df.groupby(\"CustomerID\")[\"Quantity\"].sum().sort_values()"
   ]
  },
  {
   "cell_type": "code",
   "execution_count": null,
   "metadata": {
    "colab": {
     "base_uri": "https://localhost:8080/",
     "height": 239
    },
    "id": "frU4xSggPmAF",
    "outputId": "e41c4355-418d-4e22-d988-34d2411d6852"
   },
   "outputs": [],
   "source": [
    "df[(df[\"Quantity\"]>0) & (df[\"InvoiceNo\"].str.contains(\"^[^C].*\"))]"
   ]
  },
  {
   "cell_type": "code",
   "execution_count": null,
   "metadata": {
    "colab": {
     "base_uri": "https://localhost:8080/",
     "height": 49
    },
    "id": "Vxok_oDVg77i",
    "outputId": "dac78381-5de2-48eb-a9f1-01fbcf61ff96"
   },
   "outputs": [],
   "source": [
    "df[(df[\"Quantity\"]<0) & (df[\"InvoiceNo\"].str.contains(\"^[^C].*\"))]"
   ]
  },
  {
   "cell_type": "markdown",
   "metadata": {
    "id": "j3qQdo48g77i"
   },
   "source": [
    "### InvoiceDate"
   ]
  },
  {
   "cell_type": "markdown",
   "metadata": {
    "id": "xBEO6iARg77i"
   },
   "source": [
    "> InvoiceDate: Invoice Date and time. Numeric, the day and time when each transaction was generated."
   ]
  },
  {
   "cell_type": "markdown",
   "metadata": {
    "id": "UDUjdOvag77j"
   },
   "source": [
    "This is a transnational data set which contains all the transactions occurring between 01/12/2010 and 09/12/2011 for a UK-based and registered non-store online retail. "
   ]
  },
  {
   "cell_type": "code",
   "execution_count": null,
   "metadata": {
    "colab": {
     "base_uri": "https://localhost:8080/"
    },
    "id": "slTdMCQYg77j",
    "outputId": "c8569753-3256-4743-b6d0-0f67e3dd3ce3"
   },
   "outputs": [],
   "source": [
    "df.InvoiceDate.value_counts()\n"
   ]
  },
  {
   "cell_type": "code",
   "execution_count": null,
   "metadata": {
    "colab": {
     "base_uri": "https://localhost:8080/"
    },
    "id": "bb-elLMyg77j",
    "outputId": "30720855-c9a4-4dde-9c76-0c3537dd0207"
   },
   "outputs": [],
   "source": [
    "df[\"Hour\"]=df.InvoiceDate.dt.hour\n",
    "df[\"Hour\"]"
   ]
  },
  {
   "cell_type": "code",
   "execution_count": null,
   "metadata": {
    "colab": {
     "base_uri": "https://localhost:8080/"
    },
    "id": "dmsMMd5Rg77j",
    "outputId": "20b58bc1-cddb-498d-9295-262d48cd5eff"
   },
   "outputs": [],
   "source": [
    "df[\"Month\"] = df.InvoiceDate.dt.to_period('M').astype(str)\n",
    "df[\"Month\"] "
   ]
  },
  {
   "cell_type": "code",
   "execution_count": null,
   "metadata": {
    "colab": {
     "base_uri": "https://localhost:8080/",
     "height": 265
    },
    "id": "sbx4M8nvg77k",
    "outputId": "b8b6b838-4511-4d6f-926c-6c8890d5c9e9"
   },
   "outputs": [],
   "source": [
    "sns.barplot(y=df.groupby(\"Month\")[\"InvoiceNo\"].count().index,\n",
    "           x=df.groupby(\"Month\")[\"InvoiceNo\"].count().values);"
   ]
  },
  {
   "cell_type": "code",
   "execution_count": null,
   "metadata": {
    "colab": {
     "base_uri": "https://localhost:8080/"
    },
    "id": "Ei6lAe4Eg77k",
    "outputId": "9c566edb-086d-4aa0-fa37-549b4a39091a"
   },
   "outputs": [],
   "source": [
    "df.groupby([\"CustomerID\",\"Hour\"])[\"InvoiceNo\"].count()"
   ]
  },
  {
   "cell_type": "code",
   "execution_count": null,
   "metadata": {
    "colab": {
     "base_uri": "https://localhost:8080/"
    },
    "id": "a05fkUEug77k",
    "outputId": "fb489e29-e4c5-48a1-add1-2de4a9391621"
   },
   "outputs": [],
   "source": [
    "df.groupby(\"Hour\")[\"InvoiceNo\"].count()"
   ]
  },
  {
   "cell_type": "code",
   "execution_count": null,
   "metadata": {
    "colab": {
     "base_uri": "https://localhost:8080/",
     "height": 279
    },
    "id": "dXwYvqjSg77l",
    "outputId": "ac00e546-a002-4eb9-b70f-9ede56268b1e"
   },
   "outputs": [],
   "source": [
    "sns.barplot(x=df.groupby(\"Hour\")[\"InvoiceNo\"].count().index,\n",
    "           y=df.groupby(\"Hour\")[\"InvoiceNo\"].count().values);"
   ]
  },
  {
   "cell_type": "markdown",
   "metadata": {
    "id": "jmt501rCg77l"
   },
   "source": [
    "### UnitPrice"
   ]
  },
  {
   "cell_type": "markdown",
   "metadata": {
    "id": "_Tz3tipOg77l"
   },
   "source": [
    "> UnitPrice: Unit price. Numeric, Product price per unit in sterling."
   ]
  },
  {
   "cell_type": "code",
   "execution_count": null,
   "metadata": {
    "colab": {
     "base_uri": "https://localhost:8080/"
    },
    "id": "k-qP_TC6g77l",
    "outputId": "43f0db39-eabf-4fe5-b233-ad43213bc8ef"
   },
   "outputs": [],
   "source": [
    "df[\"UnitPrice\"].value_counts().sort_index()"
   ]
  },
  {
   "cell_type": "code",
   "execution_count": null,
   "metadata": {
    "colab": {
     "base_uri": "https://localhost:8080/",
     "height": 388
    },
    "id": "5cfLnjOIg77l",
    "outputId": "44cb5e35-995c-4002-89b5-b79677786505"
   },
   "outputs": [],
   "source": [
    "plt.subplots(figsize=(8,6))\n",
    "sns.boxplot(df.UnitPrice)\n",
    "plt.show()"
   ]
  },
  {
   "cell_type": "code",
   "execution_count": null,
   "metadata": {
    "colab": {
     "base_uri": "https://localhost:8080/",
     "height": 210
    },
    "id": "b3FcQeEhPTtW",
    "outputId": "818a6bdb-c02c-4d7a-dd77-e85ce49ce459"
   },
   "outputs": [],
   "source": [
    "df[(df[\"UnitPrice\"] < 0)]"
   ]
  },
  {
   "cell_type": "code",
   "execution_count": null,
   "metadata": {
    "colab": {
     "base_uri": "https://localhost:8080/",
     "height": 748
    },
    "id": "l4AEdjTAg77m",
    "outputId": "333de2ae-3ec9-448e-dfe9-6392e65e2d32"
   },
   "outputs": [],
   "source": [
    "df[(df[\"UnitPrice\"] == 0)].sort_values(by=\"Quantity\")"
   ]
  },
  {
   "cell_type": "markdown",
   "metadata": {
    "id": "-AcFhLk7g77m"
   },
   "source": [
    "### TotalPrice"
   ]
  },
  {
   "cell_type": "code",
   "execution_count": null,
   "metadata": {
    "colab": {
     "base_uri": "https://localhost:8080/"
    },
    "id": "IxRQCycyg77m",
    "outputId": "be8913f4-70a5-4caf-f78a-db87928a952c"
   },
   "outputs": [],
   "source": [
    "df[\"TotalPrice\"] = df[\"UnitPrice\"]*df[\"Quantity\"]\n",
    "df[\"TotalPrice\"]"
   ]
  },
  {
   "cell_type": "code",
   "execution_count": null,
   "metadata": {
    "colab": {
     "base_uri": "https://localhost:8080/",
     "height": 582
    },
    "id": "HctAvglmg77m",
    "outputId": "dc78ea50-5525-4cf5-ffb9-086d4c2f4001"
   },
   "outputs": [],
   "source": [
    "df.head()"
   ]
  },
  {
   "cell_type": "markdown",
   "metadata": {
    "id": "9HUfzCv3g77n"
   },
   "source": [
    "### CustomerID"
   ]
  },
  {
   "cell_type": "markdown",
   "metadata": {
    "id": "Z7eIDryIg77n"
   },
   "source": [
    "> CustomerID : Customer number. Nominal, a 5-digit integral number uniquely assigned to each customer."
   ]
  },
  {
   "cell_type": "code",
   "execution_count": null,
   "metadata": {
    "colab": {
     "base_uri": "https://localhost:8080/"
    },
    "id": "7nIyK5ceg77n",
    "outputId": "ce3d0025-e22e-4b8a-d2dd-a046e4663c27",
    "scrolled": false
   },
   "outputs": [],
   "source": [
    "df[\"CustomerID\"].value_counts()"
   ]
  },
  {
   "cell_type": "code",
   "execution_count": null,
   "metadata": {
    "colab": {
     "base_uri": "https://localhost:8080/"
    },
    "id": "PWQ2uraug77s",
    "outputId": "e504e591-ff97-4c56-c530-e3df5b1cbe36"
   },
   "outputs": [],
   "source": [
    "df.groupby(\"CustomerID\").InvoiceNo.count().sort_values(ascending=False)"
   ]
  },
  {
   "cell_type": "markdown",
   "metadata": {
    "id": "VzPTubQvg77s"
   },
   "source": [
    "### Country"
   ]
  },
  {
   "cell_type": "markdown",
   "metadata": {
    "id": "n6OZttZXg77s"
   },
   "source": [
    "> Country : Country name. Nominal, the name of the country where each customer resides."
   ]
  },
  {
   "cell_type": "code",
   "execution_count": null,
   "metadata": {
    "colab": {
     "base_uri": "https://localhost:8080/"
    },
    "id": "pFoQGHK0g77t",
    "outputId": "1e28d548-681d-4ca5-d1b6-99a0e20b7094",
    "scrolled": false
   },
   "outputs": [],
   "source": [
    "df[\"Country\"].value_counts()"
   ]
  },
  {
   "cell_type": "code",
   "execution_count": null,
   "metadata": {
    "colab": {
     "base_uri": "https://localhost:8080/",
     "height": 525
    },
    "id": "1LRtDMtAg77t",
    "outputId": "718899e6-7999-468e-81d1-2eb6a43b6a18"
   },
   "outputs": [],
   "source": [
    "df[\"Country\"].value_counts().plot(kind=\"bar\", figsize=(15,8));"
   ]
  },
  {
   "cell_type": "code",
   "execution_count": null,
   "metadata": {
    "colab": {
     "base_uri": "https://localhost:8080/"
    },
    "id": "ByddRRCRg77t",
    "outputId": "e4c816fd-e481-4cd6-a907-08f1157f7a2b"
   },
   "outputs": [],
   "source": [
    "df.groupby(by=['CustomerID','Country'])['InvoiceNo'].count().sort_values(ascending=False).head()"
   ]
  },
  {
   "cell_type": "markdown",
   "metadata": {
    "id": "KiSW67N_QGV8"
   },
   "source": [
    "We see that there are negative values in the Quantity and UnitPrice columns. These are possibly canceled and returned orders. Let's check it out."
   ]
  },
  {
   "cell_type": "markdown",
   "metadata": {
    "id": "7OoPE-QLiqa4"
   },
   "source": [
    "### ii. What does the letter \"C\" in the InvoiceNo column mean?"
   ]
  },
  {
   "cell_type": "markdown",
   "metadata": {
    "id": "Kt32SZgJQGV8"
   },
   "source": [
    "hint: If the invoice number starts with the letter \"C\", it means the order was cancelled. Or those who abandon their order."
   ]
  },
  {
   "cell_type": "markdown",
   "metadata": {
    "id": "YP5RPZq1QGV_"
   },
   "source": [
    "When we filter canceled orders by Quantity> 0 or filter non-canceled orders by Quantity <0 nothing returns, this confirms that negative values mean the order was canceled. So lets find out how many orders were cancelled?"
   ]
  },
  {
   "cell_type": "code",
   "execution_count": null,
   "metadata": {
    "colab": {
     "base_uri": "https://localhost:8080/",
     "height": 113
    },
    "id": "UIzeaSycg77u",
    "outputId": "3472e392-defc-497c-cbaf-6228f3dfe396"
   },
   "outputs": [],
   "source": [
    "df[(df[\"Quantity\"]<0) & (df[\"InvoiceNo\"].str.contains(\"^[^C].*\"))] #non-canceled orders by Quantity < 0"
   ]
  },
  {
   "cell_type": "code",
   "execution_count": null,
   "metadata": {
    "colab": {
     "base_uri": "https://localhost:8080/",
     "height": 113
    },
    "id": "MCnFwJZIg77v",
    "outputId": "9513ac1a-4691-4082-e964-820b536bde59"
   },
   "outputs": [],
   "source": [
    "df[(df[\"Quantity\"]>0) & (df[\"InvoiceNo\"].str.contains(\"^C.*\"))] #canceled-orders by Quantity > 0 "
   ]
  },
  {
   "cell_type": "code",
   "execution_count": null,
   "metadata": {
    "colab": {
     "base_uri": "https://localhost:8080/"
    },
    "id": "-pn-MjQrg77v",
    "outputId": "805f6209-02ff-47f3-f454-2235d37845de"
   },
   "outputs": [],
   "source": [
    "df[(df[\"Quantity\"]<0) & (df[\"InvoiceNo\"].str.contains(\"^C.*\"))].count() #9251 orders were cancelled."
   ]
  },
  {
   "cell_type": "markdown",
   "metadata": {
    "id": "nrp8logRQGWA"
   },
   "source": [
    "#### Looking deeper into why these orders were cancelled may prevent future cancellations. Now let's find out what a negative UnitPrice means.\n"
   ]
  },
  {
   "cell_type": "code",
   "execution_count": null,
   "metadata": {
    "colab": {
     "base_uri": "https://localhost:8080/",
     "height": 210
    },
    "id": "RJOqylF_g77w",
    "outputId": "73e02a96-8e4a-497f-9e66-df0cb246f354"
   },
   "outputs": [],
   "source": [
    "df[(df[\"UnitPrice\"] < 0)]"
   ]
  },
  {
   "cell_type": "code",
   "execution_count": null,
   "metadata": {
    "id": "HiMmjdkFg77w"
   },
   "outputs": [],
   "source": [
    "#A bad debt is money owed to your company that you decide is not collectable."
   ]
  },
  {
   "cell_type": "markdown",
   "metadata": {
    "id": "nXVVls6sQGVQ"
   },
   "source": [
    "### iii. Handling Missing Values"
   ]
  },
  {
   "cell_type": "markdown",
   "metadata": {
    "id": "EQtZK5paQGVf"
   },
   "source": [
    "Since the customer ID's are missing, lets assume these orders were not made by the customers already in the data set because those customers already have ID's. \n",
    "\n",
    "We also don't want to assign these orders to those customers because this would alter the insights we draw from the data. \n"
   ]
  },
  {
   "cell_type": "code",
   "execution_count": null,
   "metadata": {
    "colab": {
     "base_uri": "https://localhost:8080/"
    },
    "id": "OwWT6o5lP3VL",
    "outputId": "abc80bce-0da6-49da-d73c-66a4a32be50d"
   },
   "outputs": [],
   "source": [
    "df.isnull().sum()"
   ]
  },
  {
   "cell_type": "code",
   "execution_count": null,
   "metadata": {
    "colab": {
     "base_uri": "https://localhost:8080/",
     "height": 817
    },
    "id": "8BIbxVxyg77x",
    "outputId": "72fef53a-bb47-4bda-b08d-441f7fdf6ab8"
   },
   "outputs": [],
   "source": [
    "df[df[\"CustomerID\"].isnull()]"
   ]
  },
  {
   "cell_type": "code",
   "execution_count": null,
   "metadata": {
    "id": "j3U8XTT0g77x"
   },
   "outputs": [],
   "source": [
    "df0 = df.copy() "
   ]
  },
  {
   "cell_type": "markdown",
   "metadata": {
    "id": "llu-bMTAiqa6"
   },
   "source": [
    "### iv. Clean the Data from the Noise and Missing Values"
   ]
  },
  {
   "cell_type": "code",
   "execution_count": null,
   "metadata": {
    "id": "ZrR5UH0dg77y"
   },
   "outputs": [],
   "source": [
    "#df[(df['UnitPrice'] > 0) & (df['Quantity'] > 0)] düzeltelim !"
   ]
  },
  {
   "cell_type": "code",
   "execution_count": null,
   "metadata": {
    "colab": {
     "base_uri": "https://localhost:8080/",
     "height": 113
    },
    "id": "128cZ9fFg77y",
    "outputId": "143c53fe-6799-4ae1-84d3-34140b62cb99"
   },
   "outputs": [],
   "source": [
    "df0[(df0.Description.isnull() )& (df.CustomerID.notna())]"
   ]
  },
  {
   "cell_type": "code",
   "execution_count": null,
   "metadata": {
    "id": "kSEuEHuVg77y"
   },
   "outputs": [],
   "source": [
    "df = df[df.CustomerID.notna()]"
   ]
  },
  {
   "cell_type": "code",
   "execution_count": null,
   "metadata": {
    "colab": {
     "base_uri": "https://localhost:8080/"
    },
    "id": "ctFQmv9Hg77y",
    "outputId": "74b94afe-e126-462f-e938-10f1809f7d03"
   },
   "outputs": [],
   "source": [
    "df.isnull().sum()"
   ]
  },
  {
   "cell_type": "code",
   "execution_count": null,
   "metadata": {
    "colab": {
     "base_uri": "https://localhost:8080/"
    },
    "id": "KqOFgSlTg77z",
    "outputId": "c062eab1-a280-42b4-8b10-dc8d071c26be"
   },
   "outputs": [],
   "source": [
    "(df==\"?\").any(axis=0)"
   ]
  },
  {
   "cell_type": "code",
   "execution_count": null,
   "metadata": {
    "colab": {
     "base_uri": "https://localhost:8080/"
    },
    "id": "9PWWw_KUg77z",
    "outputId": "9830dcb2-ef1f-46d1-8708-336c8dcb17d1"
   },
   "outputs": [],
   "source": [
    "df = df[(df['UnitPrice'] > 0) & (df['Quantity'] > 0)]\n",
    "df"
   ]
  },
  {
   "cell_type": "markdown",
   "metadata": {
    "id": "25MkNjZqQGWC"
   },
   "source": [
    "### v. Explore the Orders\n"
   ]
  },
  {
   "cell_type": "markdown",
   "metadata": {
    "id": "8OAkPoUjiqa7"
   },
   "source": [
    "1. Find the unique number of InvoiceNo  per customer"
   ]
  },
  {
   "cell_type": "code",
   "execution_count": null,
   "metadata": {
    "colab": {
     "base_uri": "https://localhost:8080/"
    },
    "id": "iJQAwBtHP6fs",
    "outputId": "91209579-7073-4ca3-c062-0b1d97f5bfd9"
   },
   "outputs": [],
   "source": [
    "df.groupby(\"CustomerID\")[\"InvoiceNo\"].nunique().sort_values(ascending=False)"
   ]
  },
  {
   "cell_type": "code",
   "execution_count": null,
   "metadata": {
    "colab": {
     "base_uri": "https://localhost:8080/"
    },
    "id": "L-4m1NiNg770",
    "outputId": "20aff8f1-4559-4662-b617-b67563b20225"
   },
   "outputs": [],
   "source": [
    "df[df[\"CustomerID\"]==14911.0 ]"
   ]
  },
  {
   "cell_type": "markdown",
   "metadata": {
    "id": "di03OKjzQGWE"
   },
   "source": [
    "2. What's the average number of unqiue items per order or per customer?"
   ]
  },
  {
   "cell_type": "code",
   "execution_count": null,
   "metadata": {
    "colab": {
     "base_uri": "https://localhost:8080/"
    },
    "id": "g_gPV3zNg770",
    "outputId": "84cf67dd-17ba-40fc-9cb5-593873510c77"
   },
   "outputs": [],
   "source": [
    "#Average number of unique items per customer\n",
    "df.groupby([\"CustomerID\",\"StockCode\"])[\"Quantity\"].mean()"
   ]
  },
  {
   "cell_type": "code",
   "execution_count": null,
   "metadata": {
    "colab": {
     "base_uri": "https://localhost:8080/"
    },
    "id": "nZws9eq9g771",
    "outputId": "7e24daa2-82ea-4ff2-a3c3-7eab89611f43"
   },
   "outputs": [],
   "source": [
    "#Average number of unique items per order\n",
    "df.groupby([\"InvoiceNo\",\"StockCode\"])[\"Quantity\"].mean()"
   ]
  },
  {
   "cell_type": "code",
   "execution_count": null,
   "metadata": {
    "colab": {
     "base_uri": "https://localhost:8080/"
    },
    "id": "uQixtWw7P6uf",
    "outputId": "57dfb296-16f1-4c8c-a981-4bf2a4d09e8c"
   },
   "outputs": [],
   "source": [
    "df.groupby(\"CustomerID\")['Quantity'].mean().sort_values(ascending=False)"
   ]
  },
  {
   "cell_type": "code",
   "execution_count": null,
   "metadata": {
    "colab": {
     "base_uri": "https://localhost:8080/",
     "height": 214
    },
    "id": "Gg8vpalyg771",
    "outputId": "8478f937-0429-46f6-9a16-593eec723f32"
   },
   "outputs": [],
   "source": [
    "df[df[\"CustomerID\"]==12346.0 ]"
   ]
  },
  {
   "cell_type": "markdown",
   "metadata": {
    "id": "HUKzA73dQGWH"
   },
   "source": [
    "3. Let's see how this compares to the number of unique products per customer."
   ]
  },
  {
   "cell_type": "code",
   "execution_count": null,
   "metadata": {
    "colab": {
     "base_uri": "https://localhost:8080/"
    },
    "id": "wQkZNGfTg772",
    "outputId": "dbb2ef63-2635-43a3-b65d-6c9ce2a4df6c"
   },
   "outputs": [],
   "source": [
    "df.groupby(\"CustomerID\")[\"StockCode\"].nunique().sort_values(ascending=False)"
   ]
  },
  {
   "cell_type": "code",
   "execution_count": null,
   "metadata": {
    "colab": {
     "base_uri": "https://localhost:8080/",
     "height": 486
    },
    "id": "chuqAp6kP693",
    "outputId": "9e35b62a-bba8-4cc1-c645-e9c1582177dd"
   },
   "outputs": [],
   "source": [
    "df.groupby(\"CustomerID\").agg({\"Quantity\":[\"nunique\",\"mean\"]})"
   ]
  },
  {
   "cell_type": "markdown",
   "metadata": {
    "id": "I_Ozp-U5QGWK"
   },
   "source": [
    "### vi. Explore Customers by Country"
   ]
  },
  {
   "cell_type": "markdown",
   "metadata": {
    "id": "SP6M3isLiqa8"
   },
   "source": [
    "1. What's the total revenue per country?"
   ]
  },
  {
   "cell_type": "code",
   "execution_count": null,
   "metadata": {
    "colab": {
     "base_uri": "https://localhost:8080/"
    },
    "id": "EQKV1T3kg773",
    "outputId": "bfa022cf-e1ad-472e-8eb3-d82db2797a1e"
   },
   "outputs": [],
   "source": [
    "df[\"TotalPrice\"]"
   ]
  },
  {
   "cell_type": "code",
   "execution_count": null,
   "metadata": {
    "colab": {
     "base_uri": "https://localhost:8080/"
    },
    "id": "Q2pqZmwTg773",
    "outputId": "89e70d37-6acf-49b9-952b-08a11a2ca0f2"
   },
   "outputs": [],
   "source": [
    "df.groupby(\"Country\")['TotalPrice'].sum().sort_values(ascending=False)"
   ]
  },
  {
   "cell_type": "code",
   "execution_count": null,
   "metadata": {
    "colab": {
     "base_uri": "https://localhost:8080/",
     "height": 1000
    },
    "id": "k1XKRXYAP714",
    "outputId": "7af0752f-7a76-4fe5-db80-732d44340d3b"
   },
   "outputs": [],
   "source": [
    "df.groupby(\"Country\").agg({\"TotalPrice\":\"sum\"})\n",
    "#df.groupby(\"Country\")['TotalPrice'].sum().sort_values(ascending=False)"
   ]
  },
  {
   "cell_type": "markdown",
   "metadata": {
    "id": "qk64qtEliqa8"
   },
   "source": [
    "2. Visualize number of customer per country"
   ]
  },
  {
   "cell_type": "code",
   "execution_count": null,
   "metadata": {
    "colab": {
     "base_uri": "https://localhost:8080/"
    },
    "id": "cn2z6yulP8Js",
    "outputId": "a5169c92-b2a0-4aaf-9cde-38a55ed30361"
   },
   "outputs": [],
   "source": [
    "descending_order=df.groupby(\"Country\")[\"CustomerID\"].nunique().sort_values(ascending=False)\n",
    "descending_order"
   ]
  },
  {
   "cell_type": "code",
   "execution_count": null,
   "metadata": {
    "colab": {
     "base_uri": "https://localhost:8080/",
     "height": 545
    },
    "id": "sw3AwOSNg774",
    "outputId": "473f240d-b92b-4584-fb88-5b0be1115bdf"
   },
   "outputs": [],
   "source": [
    "plt.figure(figsize=(15,8))\n",
    "sns.barplot(data=df, x=descending_order.index, y=descending_order.values)\n",
    "plt.xticks(rotation=90);"
   ]
  },
  {
   "cell_type": "code",
   "execution_count": null,
   "metadata": {
    "colab": {
     "base_uri": "https://localhost:8080/",
     "height": 17
    },
    "id": "Cy160Ytpg774",
    "outputId": "e2a739c5-839f-4ca2-bfd1-51ce927adee2"
   },
   "outputs": [],
   "source": [
    "# Importing plotly and cufflinks in offline mode\n",
    "import plotly.express as px\n",
    "import cufflinks as cf\n",
    "import plotly.offline\n",
    "cf.go_offline()\n",
    "cf.set_config_file(offline=False, world_readable=True)"
   ]
  },
  {
   "cell_type": "code",
   "execution_count": null,
   "metadata": {
    "colab": {
     "base_uri": "https://localhost:8080/",
     "height": 542
    },
    "id": "OwRJsDJrg774",
    "outputId": "ad8cd17e-1b8b-405c-9d36-8a907ecd7f6a"
   },
   "outputs": [],
   "source": [
    "fig = px.histogram(df, x = df.groupby(\"Country\")[\"CustomerID\"].nunique().sort_index(ascending=False).index, \n",
    "                   y = df.groupby(\"Country\")[\"CustomerID\"].nunique().sort_index(ascending=False).values, \n",
    "                   title = 'Customer Counts by Country',\n",
    "                   labels = dict(x = \"Countries\", y =\"Customers\"))\n",
    "fig.show()"
   ]
  },
  {
   "cell_type": "markdown",
   "metadata": {
    "id": "2TD66fT3iqa8"
   },
   "source": [
    "3. Visualize total cost per country"
   ]
  },
  {
   "cell_type": "code",
   "execution_count": null,
   "metadata": {
    "colab": {
     "base_uri": "https://localhost:8080/"
    },
    "id": "-yi3aTYHP8oD",
    "outputId": "c25a5100-3803-47b2-9c6f-d2c8dde54173",
    "scrolled": false
   },
   "outputs": [],
   "source": [
    "Country_Total_Price = df.groupby(\"Country\")[\"TotalPrice\"].sum().sort_values()\n",
    "Country_Total_Price"
   ]
  },
  {
   "cell_type": "code",
   "execution_count": null,
   "metadata": {
    "colab": {
     "base_uri": "https://localhost:8080/",
     "height": 724
    },
    "id": "vNn5KNMOg775",
    "outputId": "f66569c2-be18-4f2d-c3a3-dfafc5af3461"
   },
   "outputs": [],
   "source": [
    "Country_Total_Price.plot(kind=\"barh\",legend=False,figsize=(15,15));"
   ]
  },
  {
   "cell_type": "markdown",
   "metadata": {
    "id": "hwfJuBVCQGWR"
   },
   "source": [
    "#### The UK not only has the most sales revenue, but also the most customers. Since the majority of this data set contains orders from the UK, we can explore the UK market further by finding out what products the customers buy together and any other buying behaviors to improve our sales and targeting strategy."
   ]
  },
  {
   "cell_type": "markdown",
   "metadata": {
    "id": "7A25nnqIQGWR"
   },
   "source": [
    "### vii. Explore the UK Market\n"
   ]
  },
  {
   "cell_type": "markdown",
   "metadata": {
    "id": "wtWchB1Ziqa9"
   },
   "source": [
    "1. Create df_uk DataFrame"
   ]
  },
  {
   "cell_type": "code",
   "execution_count": null,
   "metadata": {
    "colab": {
     "base_uri": "https://localhost:8080/",
     "height": 1000
    },
    "id": "VQP0n2k2P9Mw",
    "outputId": "df1e08ad-7b04-4d6f-90dd-315b001b553a"
   },
   "outputs": [],
   "source": [
    "df_uk = df[df.Country == \"United Kingdom\"]\n",
    "df_uk"
   ]
  },
  {
   "cell_type": "code",
   "execution_count": null,
   "metadata": {
    "colab": {
     "base_uri": "https://localhost:8080/",
     "height": 346
    },
    "id": "PVFUh3gNg776",
    "outputId": "d5ccdb06-4c26-4af6-a73d-ab7ae10d1b0a"
   },
   "outputs": [],
   "source": [
    "df_uk.tail(3)"
   ]
  },
  {
   "cell_type": "code",
   "execution_count": null,
   "metadata": {
    "colab": {
     "base_uri": "https://localhost:8080/"
    },
    "id": "0HGCb-iIg776",
    "outputId": "503c6473-c55f-4976-9ac4-3f678335c725"
   },
   "outputs": [],
   "source": [
    "df_uk.duplicated().sum()"
   ]
  },
  {
   "cell_type": "markdown",
   "metadata": {
    "id": "is5kus2bQGWT"
   },
   "source": [
    "2. What are the most popular products that are bought in the UK?"
   ]
  },
  {
   "cell_type": "code",
   "execution_count": null,
   "metadata": {
    "colab": {
     "base_uri": "https://localhost:8080/",
     "height": 423
    },
    "id": "mwaIpOn0g777",
    "outputId": "4cf8669e-bff3-4f0a-e31e-a6b2f16b91f4"
   },
   "outputs": [],
   "source": [
    "df_uk[[\"Description\",\"StockCode\"]]"
   ]
  },
  {
   "cell_type": "code",
   "execution_count": null,
   "metadata": {
    "colab": {
     "base_uri": "https://localhost:8080/"
    },
    "id": "CSZxFMxmg777",
    "outputId": "20d0bcd0-6447-4edf-e284-7e6a8cc23828"
   },
   "outputs": [],
   "source": [
    "df_uk.Description.mode()"
   ]
  },
  {
   "cell_type": "code",
   "execution_count": null,
   "metadata": {
    "colab": {
     "base_uri": "https://localhost:8080/"
    },
    "id": "pRT_Wz1FP9c5",
    "outputId": "e333d576-f07f-4c38-aa8d-fd93866a0321"
   },
   "outputs": [],
   "source": [
    "most_popular=df_uk.Description.value_counts(ascending=False)[:20]\n",
    "most_popular"
   ]
  },
  {
   "cell_type": "code",
   "execution_count": null,
   "metadata": {
    "colab": {
     "base_uri": "https://localhost:8080/",
     "height": 621
    },
    "id": "beicwKgQg777",
    "outputId": "67bcc6ba-14dd-499d-8621-5a17fa0aaed2"
   },
   "outputs": [],
   "source": [
    "plt.figure(figsize=(15,8))\n",
    "sns.barplot(x=most_popular.index, y=most_popular.values)\n",
    "plt.xticks(rotation=90);"
   ]
  },
  {
   "cell_type": "code",
   "execution_count": null,
   "metadata": {
    "colab": {
     "base_uri": "https://localhost:8080/"
    },
    "id": "fyG1LSILg777",
    "outputId": "10de8d08-05c9-439e-b2ba-4bcd4aae2377",
    "scrolled": true
   },
   "outputs": [],
   "source": [
    "#MOST POPULAR Products According to Quantity\n",
    "df_uk.groupby(\"StockCode\")['Quantity'].sum().sort_values(ascending=False)[:10]"
   ]
  },
  {
   "cell_type": "code",
   "execution_count": null,
   "metadata": {
    "colab": {
     "base_uri": "https://localhost:8080/",
     "height": 478
    },
    "id": "uiu_X6Epg778",
    "outputId": "53a50f2d-4339-4ae4-d905-13049738885f"
   },
   "outputs": [],
   "source": [
    "plt.figure(figsize=(15,8))\n",
    "sns.barplot(x=df_uk.groupby(\"StockCode\")['Quantity'].sum().sort_values(ascending=False)[:10].index, \n",
    "            y=df_uk.groupby(\"StockCode\")['Quantity'].sum().sort_values(ascending=False)[:10].values)\n",
    "plt.xticks(rotation=90);"
   ]
  },
  {
   "cell_type": "code",
   "execution_count": null,
   "metadata": {
    "colab": {
     "base_uri": "https://localhost:8080/"
    },
    "id": "25_PGddQg778",
    "outputId": "c20f3ade-3f5d-4ec2-e913-a1530e5a4f8a"
   },
   "outputs": [],
   "source": [
    "df_uk.groupby(\"CustomerID\")['TotalPrice'].sum().sort_values(ascending=False).head(10)"
   ]
  },
  {
   "cell_type": "code",
   "execution_count": null,
   "metadata": {
    "colab": {
     "base_uri": "https://localhost:8080/",
     "height": 419
    },
    "id": "ueZFhsWbg778",
    "outputId": "e1e41c65-7c13-4079-88b3-ca937f7e94bf"
   },
   "outputs": [],
   "source": [
    "df_uk.groupby(\"CustomerID\")['TotalPrice'].nunique().sort_values(ascending=False).head(10).plot(kind=\"bar\", width=0.5, color='skyblue', edgecolor='black', figsize=(11,6));"
   ]
  },
  {
   "cell_type": "markdown",
   "metadata": {
    "id": "LHbqJD7bQGWU"
   },
   "source": [
    "### We will continue analyzing the UK transactions with customer segmentation."
   ]
  },
  {
   "cell_type": "markdown",
   "metadata": {
    "id": "MAtzWvugQGWV"
   },
   "source": [
    "# 2. RFM Analysis"
   ]
  },
  {
   "cell_type": "markdown",
   "metadata": {
    "id": "v5uUAUQpQGWV"
   },
   "source": [
    "In the age of the internet and e-commerce, companies that do not expand their businesses online or utilize digital tools to reach their customers will run into issues like scalability and a lack of digital precsence. An important marketing strategy e-commerce businesses use for analyzing and predicting customer value is customer segmentation. Customer data is used to sort customers into group based on their behaviors and preferences.\n",
    "\n",
    "**[RFM](https://www.putler.com/rfm-analysis/) (Recency, Frequency, Monetary) Analysis** is a customer segmentation technique for analyzing customer value based on past buying behavior. RFM analysis was first used by the direct mail industry more than four decades ago, yet it is still an effective way to optimize your marketing.\n",
    "<br>\n",
    "<br>\n",
    "Our goal in this Notebook is to cluster the customers in our data set to:\n",
    " - Recognize who are our most valuable customers\n",
    " - Increase revenue\n",
    " - Increase customer retention\n",
    " - Learn more about the trends and behaviors of our customers\n",
    " - Define customers that are at risk\n",
    "\n",
    "We will start with **RFM Analysis** and then compliment our findings with predictive analysis using **K-Means Clustering Algorithms.**\n",
    "\n",
    "- RECENCY (R): Time since last purchase\n",
    "- FREQUENCY (F): Total number of purchases\n",
    "- MONETARY VALUE (M): Total monetary value\n",
    "\n",
    "\n",
    "\n",
    "\n",
    "Benefits of RFM Analysis\n",
    "\n",
    "- Increased customer retention\n",
    "- Increased response rate\n",
    "- Increased conversion rate\n",
    "- Increased revenue\n",
    "\n",
    "RFM Analysis answers the following questions:\n",
    " - Who are our best customers?\n",
    " - Who has the potential to be converted into more profitable customers?\n",
    " - Which customers do we need to retain?\n",
    " - Which group of customers is most likely to respond to our marketing campaign?\n",
    " "
   ]
  },
  {
   "cell_type": "markdown",
   "metadata": {
    "id": "mn1Y0Dzig779"
   },
   "source": [
    "![RMF_%C4%B0MAGE.png](attachment:RMF_%C4%B0MAGE.png)"
   ]
  },
  {
   "cell_type": "markdown",
   "metadata": {
    "id": "tXux635Zg77-"
   },
   "source": [
    "![RFM-campaigns.png](attachment:RFM-campaigns.png)"
   ]
  },
  {
   "cell_type": "markdown",
   "metadata": {
    "id": "zX47_J8OQGWV"
   },
   "source": [
    "### i. Import Libraries"
   ]
  },
  {
   "cell_type": "markdown",
   "metadata": {
    "id": "9rYM4MJsQGWW"
   },
   "source": [
    "### ii. Review df_uk DataFrame"
   ]
  },
  {
   "cell_type": "code",
   "execution_count": null,
   "metadata": {
    "colab": {
     "base_uri": "https://localhost:8080/",
     "height": 280
    },
    "id": "oQHyAJNeiqa-",
    "outputId": "7190a1b8-88dc-4d19-caec-1b74999874ec",
    "scrolled": true
   },
   "outputs": [],
   "source": [
    "df_uk.head(2)"
   ]
  },
  {
   "cell_type": "code",
   "execution_count": null,
   "metadata": {
    "colab": {
     "base_uri": "https://localhost:8080/"
    },
    "id": "7av7MUc2g77_",
    "outputId": "665e87f7-303d-472d-b602-8a17c25a97db"
   },
   "outputs": [],
   "source": [
    "df_uk.info()"
   ]
  },
  {
   "cell_type": "code",
   "execution_count": null,
   "metadata": {
    "colab": {
     "base_uri": "https://localhost:8080/"
    },
    "id": "2nGsI3Zwg77_",
    "outputId": "4b280035-9ea5-4f61-8d75-e85aafc55836"
   },
   "outputs": [],
   "source": [
    "df_uk.shape"
   ]
  },
  {
   "cell_type": "code",
   "execution_count": null,
   "metadata": {
    "id": "ndtHmOJ-g77_"
   },
   "outputs": [],
   "source": [
    "df_uk1 = df_uk.copy()"
   ]
  },
  {
   "cell_type": "markdown",
   "metadata": {
    "id": "MvfCcPLgQGWa"
   },
   "source": [
    "### iii. Recency: Days since last purchase\n",
    "To calculate the recency values, follow these steps in order:\n",
    "\n",
    "1. To calculate recency, we need to choose a date as a point of reference to evaluate how many days ago was the customer's last purchase.\n",
    "2. Create a new column called Date which contains the invoice date without the timestamp\n",
    "3. Group by CustomerID and check the last date of purchase\n",
    "4. Calculate the days since last purchase\n",
    "5. Drop Last_Purchase_Date since we don't need it anymore\n",
    "6. Plot RFM distributions"
   ]
  },
  {
   "cell_type": "code",
   "execution_count": null,
   "metadata": {
    "id": "pdxFd6s_g78A"
   },
   "outputs": [],
   "source": [
    "#https://www.kaggle.com/code/ekrembayar/rfm-analysis-online-retail-ii"
   ]
  },
  {
   "cell_type": "code",
   "execution_count": null,
   "metadata": {
    "id": "r3JOhOoJg78B"
   },
   "outputs": [],
   "source": [
    "#recency = (dt.datetime(2010, 12, 9) - df_uk.groupby(\"Customer ID\").agg({\"InvoiceDate\":\"max\"})).rename(columns = {\"InvoiceDate\":\"Recency\"})\n",
    "\n",
    "#recency[\"Recency\"] = recency[\"Recency\"].apply(lambda x: x.days)\n",
    "\n",
    "#recency.head()"
   ]
  },
  {
   "cell_type": "code",
   "execution_count": null,
   "metadata": {
    "id": "857Ndcr3g78B"
   },
   "outputs": [],
   "source": [
    "#frequency = df1.groupby(\"Customer ID\").agg({\"InvoiceDate\":\"nunique\"}).rename(columns={\"InvoiceDate\": \"Frequency\"})\n",
    "#frequency.head()"
   ]
  },
  {
   "cell_type": "code",
   "execution_count": null,
   "metadata": {
    "id": "SzNwhAlug78B"
   },
   "outputs": [],
   "source": [
    "#monetary = df1.groupby(\"Customer ID\").agg({\"TotalPrice\":\"sum\"}).rename(columns={\"TotalPrice\":\"Monetary\"})\n",
    "#monetary.head()"
   ]
  },
  {
   "cell_type": "code",
   "execution_count": null,
   "metadata": {
    "id": "KgO6g_jig78C"
   },
   "outputs": [],
   "source": [
    "#RMF = pd.concat([recency, frequency, monetary],  axis=1)"
   ]
  },
  {
   "cell_type": "markdown",
   "metadata": {
    "id": "b7Gzn6r6QGWb"
   },
   "source": [
    "1. Choose a date as a point of reference to evaluate how many days ago was the customer's last purchase."
   ]
  },
  {
   "cell_type": "code",
   "execution_count": null,
   "metadata": {
    "colab": {
     "base_uri": "https://localhost:8080/"
    },
    "id": "DwWODVSZiqa-",
    "outputId": "f64245e1-e8da-43f4-ba1f-e0638ad8c438"
   },
   "outputs": [],
   "source": [
    "print(\"2010-2011: Min Date\", df_uk[\"InvoiceDate\"].min(), \"  Max Date\", df_uk[\"InvoiceDate\"].max())"
   ]
  },
  {
   "cell_type": "code",
   "execution_count": null,
   "metadata": {
    "id": "C4tGj65Lg78C"
   },
   "outputs": [],
   "source": [
    "df_uk[\"reference_date\"] =(df_uk['InvoiceDate']).dt.date.max()"
   ]
  },
  {
   "cell_type": "code",
   "execution_count": null,
   "metadata": {
    "colab": {
     "base_uri": "https://localhost:8080/"
    },
    "id": "6L-Xxoo2g78C",
    "outputId": "a1110d58-4b79-4165-cfd3-828d9177cc23"
   },
   "outputs": [],
   "source": [
    "df_uk.info()"
   ]
  },
  {
   "cell_type": "code",
   "execution_count": null,
   "metadata": {
    "id": "cj4iZxuLg78D"
   },
   "outputs": [],
   "source": [
    "df_uk[\"reference_date\"]=pd.to_datetime(df_uk[\"reference_date\"])"
   ]
  },
  {
   "cell_type": "code",
   "execution_count": null,
   "metadata": {
    "colab": {
     "base_uri": "https://localhost:8080/",
     "height": 381
    },
    "id": "1FSKSytyg78D",
    "outputId": "7217700d-ef97-4175-96aa-2667d656980d"
   },
   "outputs": [],
   "source": [
    "df_uk.head(3)"
   ]
  },
  {
   "cell_type": "code",
   "execution_count": null,
   "metadata": {
    "colab": {
     "base_uri": "https://localhost:8080/"
    },
    "id": "3sByRfvRg78D",
    "outputId": "58348270-56c7-48c0-d2b9-82f02fe58774"
   },
   "outputs": [],
   "source": [
    "df_uk.info()"
   ]
  },
  {
   "cell_type": "markdown",
   "metadata": {
    "id": "Ge34PCT0iqa-"
   },
   "source": [
    "2. Create a new column called Date which contains the invoice date without the timestamp"
   ]
  },
  {
   "cell_type": "code",
   "execution_count": null,
   "metadata": {
    "id": "xsaFUydXiqa_"
   },
   "outputs": [],
   "source": [
    "df_uk[\"Date\"] = df_uk[\"InvoiceDate\"].dt.date"
   ]
  },
  {
   "cell_type": "code",
   "execution_count": null,
   "metadata": {
    "colab": {
     "base_uri": "https://localhost:8080/"
    },
    "id": "TVcvu9K2g78E",
    "outputId": "e1852001-d056-46aa-d0b1-f57ec7af7a7f"
   },
   "outputs": [],
   "source": [
    "df_uk.info()"
   ]
  },
  {
   "cell_type": "code",
   "execution_count": null,
   "metadata": {
    "id": "ZJZk2Wodg78F"
   },
   "outputs": [],
   "source": [
    "df_uk[\"Date\"]=pd.to_datetime(df_uk[\"Date\"])\n",
    " # invoice date in sadece tarih kısımlarını alarak date adlı yeni bir sütun oluşturdum. fatura tarihleri."
   ]
  },
  {
   "cell_type": "markdown",
   "metadata": {
    "id": "1KJzP5Ldiqa_"
   },
   "source": [
    "3. Group by CustomerID and check the last date of purchase"
   ]
  },
  {
   "cell_type": "code",
   "execution_count": null,
   "metadata": {
    "colab": {
     "base_uri": "https://localhost:8080/",
     "height": 423
    },
    "id": "x8kMt-Uyiqa_",
    "outputId": "6205a148-0017-4533-861a-5dc5dd41d18a",
    "scrolled": false
   },
   "outputs": [],
   "source": [
    "#df_uk.groupby(by='CustomerID', as_index=False)['Date'].max()\n",
    "(df_uk.groupby('CustomerID')[['Date']].max()).reset_index().rename(columns= {'Date':'last_purchased_date'})"
   ]
  },
  {
   "cell_type": "code",
   "execution_count": null,
   "metadata": {
    "colab": {
     "base_uri": "https://localhost:8080/",
     "height": 582
    },
    "id": "07aY0MmGg78G",
    "outputId": "d8935210-58d3-44cb-9702-3ddbfcae7b31"
   },
   "outputs": [],
   "source": [
    "df_uk['last_purchase_date'] = df_uk.groupby('CustomerID')['Date'].transform(max)\n",
    "df_uk.head(5)"
   ]
  },
  {
   "cell_type": "code",
   "execution_count": null,
   "metadata": {
    "colab": {
     "base_uri": "https://localhost:8080/"
    },
    "id": "ryTKjUjVg78G",
    "outputId": "7eb7d1d2-4b6d-446c-a1f3-c5843a03c2ae"
   },
   "outputs": [],
   "source": [
    "#df_uk['last_purchase_date'] =pd.datetime(df_uk['last_purchase_date'])\n",
    "df_uk.info()"
   ]
  },
  {
   "cell_type": "markdown",
   "metadata": {
    "id": "1Zxs1mzPiqa_"
   },
   "source": [
    "4. Calculate the days since last purchase"
   ]
  },
  {
   "cell_type": "code",
   "execution_count": null,
   "metadata": {
    "colab": {
     "base_uri": "https://localhost:8080/",
     "height": 280
    },
    "id": "iTeKws6giqa_",
    "outputId": "2d090ddf-5a19-4ee9-9669-4f15acce1925",
    "scrolled": true
   },
   "outputs": [],
   "source": [
    "df_uk[\"cust_recency\"] = df_uk[\"reference_date\"] - df_uk[\"last_purchase_date\"]\n",
    "# bu hali ile sütunum timedelta oldu(372 days gibi)\n",
    "#int hali getirmek istiyorum.bu yüzden dt.days kullanacağim\n",
    "df_uk.head(2)"
   ]
  },
  {
   "cell_type": "code",
   "execution_count": null,
   "metadata": {
    "id": "7VJZbcBYg78H"
   },
   "outputs": [],
   "source": [
    "df_uk[\"Recency_days\"] = df_uk[\"cust_recency\"].apply(lambda x: x.days)\n",
    "#df_uk[\"recency\"] = df_uk[\"recency\"].dt.days şeklinde de yazabiliriz."
   ]
  },
  {
   "cell_type": "code",
   "execution_count": null,
   "metadata": {
    "colab": {
     "base_uri": "https://localhost:8080/"
    },
    "id": "BkoQ_r5pg78H",
    "outputId": "d49843cd-2327-437f-9e81-40c0489db3a0"
   },
   "outputs": [],
   "source": [
    "df_uk.head(2)"
   ]
  },
  {
   "cell_type": "code",
   "execution_count": null,
   "metadata": {
    "colab": {
     "base_uri": "https://localhost:8080/"
    },
    "id": "285CZVQFg78H",
    "outputId": "10811b3b-7aa6-4e9a-f6d7-16583b16416d"
   },
   "outputs": [],
   "source": [
    "df_uk.info()"
   ]
  },
  {
   "cell_type": "code",
   "execution_count": null,
   "metadata": {
    "colab": {
     "base_uri": "https://localhost:8080/",
     "height": 143
    },
    "id": "0V_R2VsUg78I",
    "outputId": "edd4a2b4-bc23-4bb0-d029-b215141f2316"
   },
   "outputs": [],
   "source": [
    "cust_recency = pd.DataFrame(df_uk.groupby('CustomerID')['Recency_days'].min()).rename(columns={'Recency_days':'Recency'})\n",
    "\n",
    "cust_recency.reset_index(inplace=True)\n",
    "cust_recency.head(3)"
   ]
  },
  {
   "cell_type": "markdown",
   "metadata": {
    "id": "yAuMSkfsiqa_"
   },
   "source": [
    "5. Drop Last_Purchase_Date since we don't need it anymore"
   ]
  },
  {
   "cell_type": "code",
   "execution_count": null,
   "metadata": {
    "id": "4bNmKqHNiqa_"
   },
   "outputs": [],
   "source": [
    "df_uk.drop('last_purchase_date', axis=1, inplace=True)"
   ]
  },
  {
   "cell_type": "markdown",
   "metadata": {
    "id": "IB9a0AL9iqa_"
   },
   "source": [
    "6. Plot RFM distributions"
   ]
  },
  {
   "cell_type": "code",
   "execution_count": null,
   "metadata": {
    "colab": {
     "base_uri": "https://localhost:8080/",
     "height": 458
    },
    "id": "qqKJgaLeg78J",
    "outputId": "7959a0b8-a8fe-4dd0-effc-bedf9de0dcc6"
   },
   "outputs": [],
   "source": [
    "plt.figure(figsize=(12,7))\n",
    "sns.histplot(cust_recency.Recency, kde =False, color='blue', bins=50)\n",
    "plt.title('Customer Regency Distribution');"
   ]
  },
  {
   "cell_type": "code",
   "execution_count": null,
   "metadata": {
    "colab": {
     "base_uri": "https://localhost:8080/",
     "height": 458
    },
    "id": "c8e-QiwRiqa_",
    "outputId": "ffc80387-d989-473a-fbc1-cf2428eb78d6",
    "scrolled": false
   },
   "outputs": [],
   "source": [
    "plt.figure(figsize=(12,7))\n",
    "sns.distplot(cust_recency.Recency, kde =False, color='blue', bins=50)\n",
    "plt.title('Customer Regency Distribution');"
   ]
  },
  {
   "cell_type": "code",
   "execution_count": null,
   "metadata": {
    "colab": {
     "base_uri": "https://localhost:8080/",
     "height": 542
    },
    "id": "zUaGGWT1g78J",
    "outputId": "ce0a2e09-819c-4c9d-f6a1-c1aaa77e480f"
   },
   "outputs": [],
   "source": [
    "fig = px.histogram(cust_recency, x = 'Recency', title = 'Customer Regency Distribution')\n",
    "fig.show()"
   ]
  },
  {
   "cell_type": "markdown",
   "metadata": {
    "id": "MAjKZD0KQGWg"
   },
   "source": [
    "### iv. Frequency: Number of purchases\n",
    "\n",
    "To calculate how many times a customer purchased something, we need to count how many invoices each customer has. To calculate the frequency values, follow these steps in order:"
   ]
  },
  {
   "cell_type": "markdown",
   "metadata": {
    "id": "TDoNslseiqbA"
   },
   "source": [
    "1. Make a copy of df_uk and drop duplicates"
   ]
  },
  {
   "cell_type": "code",
   "execution_count": null,
   "metadata": {
    "id": "6gk2gokFiqbA"
   },
   "outputs": [],
   "source": [
    "df_ukc = df_uk.copy()"
   ]
  },
  {
   "cell_type": "code",
   "execution_count": null,
   "metadata": {
    "colab": {
     "base_uri": "https://localhost:8080/"
    },
    "id": "diiFqGvsg78K",
    "outputId": "cc6aaafc-03f0-4ac5-a447-73cd1028e05c"
   },
   "outputs": [],
   "source": [
    "df_uk.duplicated().sum()"
   ]
  },
  {
   "cell_type": "markdown",
   "metadata": {
    "id": "7KrnuXrLiqbA"
   },
   "source": [
    "2. Calculate the frequency of purchases"
   ]
  },
  {
   "cell_type": "code",
   "execution_count": null,
   "metadata": {
    "id": "1LTM_cxpiqbA"
   },
   "outputs": [],
   "source": [
    "cust_frequency = df_uk.groupby(\"CustomerID\").agg({\"InvoiceNo\":\"nunique\"}).rename(columns={\"InvoiceNo\": \"Frequency\"})\n"
   ]
  },
  {
   "cell_type": "code",
   "execution_count": null,
   "metadata": {
    "colab": {
     "base_uri": "https://localhost:8080/",
     "height": 423
    },
    "id": "G0MIvywxg78L",
    "outputId": "bbd37873-bd6f-4263-e48d-12566c3c3d50"
   },
   "outputs": [],
   "source": [
    "cust_frequency.reset_index(inplace=True)\n",
    "cust_frequency"
   ]
  },
  {
   "cell_type": "code",
   "execution_count": null,
   "metadata": {
    "colab": {
     "base_uri": "https://localhost:8080/",
     "height": 381
    },
    "id": "SvmdVh7Og78L",
    "outputId": "753cabed-76d0-4162-a61f-bf3c72bfe45a"
   },
   "outputs": [],
   "source": [
    "df_uk.head(3)"
   ]
  },
  {
   "cell_type": "code",
   "execution_count": null,
   "metadata": {
    "id": "ElwA5MZHg78L"
   },
   "outputs": [],
   "source": [
    "df_uk['cust_frequency'] = df_uk.groupby('CustomerID')['InvoiceNo'].transform('nunique')"
   ]
  },
  {
   "cell_type": "code",
   "execution_count": null,
   "metadata": {
    "colab": {
     "base_uri": "https://localhost:8080/",
     "height": 381
    },
    "id": "1awMlGRSg78M",
    "outputId": "ebc5a0b4-c8dd-4976-e999-342a297ebca0"
   },
   "outputs": [],
   "source": [
    "df_uk.head(3)"
   ]
  },
  {
   "cell_type": "markdown",
   "metadata": {
    "id": "V9NNBCNgiqbA"
   },
   "source": [
    "3. Plot RFM distributions"
   ]
  },
  {
   "cell_type": "code",
   "execution_count": null,
   "metadata": {
    "colab": {
     "base_uri": "https://localhost:8080/",
     "height": 404
    },
    "id": "dQ2x-kNpg78M",
    "outputId": "b3eb8198-0d7d-4105-e3fc-5332ba7480c7"
   },
   "outputs": [],
   "source": [
    "plt.figure(figsize=(11,6))\n",
    "sns.countplot(cust_frequency['Frequency'], color='blue')\n",
    "plt.title('Customer Frequency Distribution');"
   ]
  },
  {
   "cell_type": "code",
   "execution_count": null,
   "metadata": {
    "colab": {
     "base_uri": "https://localhost:8080/",
     "height": 404
    },
    "id": "yUtZAHu1iqbA",
    "outputId": "35eebab4-e4b2-46cd-d32c-d2b381ff0783"
   },
   "outputs": [],
   "source": [
    "plt.figure(figsize=(11,6))\n",
    "sns.distplot(cust_frequency['Frequency'], kde=False, bins=50)\n",
    "plt.title('Customer Frequency Distribution');"
   ]
  },
  {
   "cell_type": "code",
   "execution_count": null,
   "metadata": {
    "colab": {
     "base_uri": "https://localhost:8080/",
     "height": 542
    },
    "id": "1GDfsCmrg78N",
    "outputId": "83790c8d-c10d-4b6f-c769-41c2efc5bb48"
   },
   "outputs": [],
   "source": [
    "fig = px.histogram(cust_frequency, x = 'Frequency', title = 'Customer Frequency Distribution')\n",
    "fig.show()"
   ]
  },
  {
   "cell_type": "markdown",
   "metadata": {
    "id": "wUY3gKjQQGWh"
   },
   "source": [
    "### v. Monetary: Total amount of money spent\n",
    "\n",
    "The monetary value is calculated by adding together the cost of the customers' purchases.\n"
   ]
  },
  {
   "cell_type": "markdown",
   "metadata": {
    "id": "5_4_QLWtiqbA"
   },
   "source": [
    "1. Calculate sum total cost by customers and named \"Monetary\""
   ]
  },
  {
   "cell_type": "code",
   "execution_count": null,
   "metadata": {
    "colab": {
     "base_uri": "https://localhost:8080/",
     "height": 206
    },
    "id": "bilKBqvIiqbB",
    "outputId": "10a8aaa3-2f4d-408f-b283-7444422c095c"
   },
   "outputs": [],
   "source": [
    "cust_monetary = df_uk.groupby(by='CustomerID',as_index=False).agg({'TotalPrice': 'sum'}).rename(columns={\"TotalPrice\": \"Monetary\"})\n",
    "cust_monetary.head()"
   ]
  },
  {
   "cell_type": "code",
   "execution_count": null,
   "metadata": {
    "colab": {
     "base_uri": "https://localhost:8080/",
     "height": 214
    },
    "id": "60dNGeV1g78O",
    "outputId": "86c98103-ac01-4909-d4b4-40181bb51629"
   },
   "outputs": [],
   "source": [
    "df_uk['cust_monetary'] = df_uk.groupby('CustomerID')['TotalPrice'].transform('sum')\n",
    "df_uk.head(1)"
   ]
  },
  {
   "cell_type": "markdown",
   "metadata": {
    "id": "dYsaCPRDiqbB"
   },
   "source": [
    "2. Plot RFM distributions"
   ]
  },
  {
   "cell_type": "code",
   "execution_count": null,
   "metadata": {
    "colab": {
     "base_uri": "https://localhost:8080/"
    },
    "id": "boTmRZb1g78O",
    "outputId": "ea1d6f4d-1022-47ac-97cf-45beef5d7e85"
   },
   "outputs": [],
   "source": [
    "plt.figure(figsize=(11,6))\n",
    "sns.distplot(cust_monetary['Monetary'], kde=False, bins=50)\n",
    "plt.title('Customer Monetary Distribution')"
   ]
  },
  {
   "cell_type": "code",
   "execution_count": null,
   "metadata": {
    "colab": {
     "base_uri": "https://localhost:8080/",
     "height": 542
    },
    "id": "Sd41fD67iqbB",
    "outputId": "45420218-e47c-47b4-e14e-82a29f85b18b",
    "scrolled": true
   },
   "outputs": [],
   "source": [
    "fig = px.histogram(cust_monetary , x = 'Monetary', title = 'Customer Monetary Distribution')\n",
    "fig.show()"
   ]
  },
  {
   "cell_type": "markdown",
   "metadata": {
    "id": "SeaecPkSQGWj"
   },
   "source": [
    "### vi. Create RFM Table\n",
    "Merge the recency, frequency and motetary dataframes"
   ]
  },
  {
   "cell_type": "code",
   "execution_count": null,
   "metadata": {
    "colab": {
     "base_uri": "https://localhost:8080/",
     "height": 206
    },
    "id": "M88KNSbyiqbB",
    "outputId": "58de644d-e03b-40fd-80a6-9e5007e14539"
   },
   "outputs": [],
   "source": [
    "RFM = pd.merge(pd.merge(cust_recency, cust_frequency, on='CustomerID'), cust_monetary , on='CustomerID')\n",
    "RFM.head()"
   ]
  },
  {
   "cell_type": "code",
   "execution_count": null,
   "metadata": {
    "colab": {
     "base_uri": "https://localhost:8080/"
    },
    "id": "xV5F5cexg78P",
    "outputId": "a1c56b63-3e6d-406c-cbd1-7aed980eb26a"
   },
   "outputs": [],
   "source": [
    "RFM.info()"
   ]
  },
  {
   "cell_type": "code",
   "execution_count": null,
   "metadata": {
    "colab": {
     "base_uri": "https://localhost:8080/"
    },
    "id": "Rzu8DNv6g78Q",
    "outputId": "0f7c880b-cdde-4c9e-8434-7240ec3e99c9"
   },
   "outputs": [],
   "source": [
    "RFM.isnull().sum().sum()"
   ]
  },
  {
   "cell_type": "code",
   "execution_count": null,
   "metadata": {
    "colab": {
     "base_uri": "https://localhost:8080/"
    },
    "id": "q8DA2zRRg78Q",
    "outputId": "2a2b0168-5044-46f8-fac3-69486c791c9c"
   },
   "outputs": [],
   "source": [
    "RFM.duplicated().sum()"
   ]
  },
  {
   "cell_type": "markdown",
   "metadata": {
    "id": "ekBJdiPsg78Q"
   },
   "source": [
    "### -----the other way------"
   ]
  },
  {
   "cell_type": "code",
   "execution_count": null,
   "metadata": {
    "id": "iZU8OyLqg78Q"
   },
   "outputs": [],
   "source": [
    "#import datetime as dt "
   ]
  },
  {
   "cell_type": "code",
   "execution_count": null,
   "metadata": {
    "id": "8LY-f6Vtg78R"
   },
   "outputs": [],
   "source": [
    "#recency = ( dt.datetime(2011,12, 9)- df_uk.groupby(\"CustomerID\").agg({\"InvoiceDate\":\"max\"})).rename(columns = {\"InvoiceDate\":\"Recency\"})\n",
    "\n",
    "#recency[\"Recency\"] = recency[\"Recency\"].apply(lambda x: x.days)\n"
   ]
  },
  {
   "cell_type": "code",
   "execution_count": null,
   "metadata": {
    "id": "gfYlYqlXg78R"
   },
   "outputs": [],
   "source": [
    "#plt.figure(figsize=(12,7))\n",
    "#sns.histplot(recency.Recency, kde=False, color='blue')"
   ]
  },
  {
   "cell_type": "code",
   "execution_count": null,
   "metadata": {
    "id": "PuAZHDYpg78R"
   },
   "outputs": [],
   "source": [
    "#frequency = df_uk.groupby(\"CustomerID\").agg({\"InvoiceDate\":\"nunique\"}).rename(columns={\"InvoiceDate\": \"Frequency\"})\n"
   ]
  },
  {
   "cell_type": "code",
   "execution_count": null,
   "metadata": {
    "id": "pCQH5hYWg78S"
   },
   "outputs": [],
   "source": [
    "#plt.figure(figsize=(12,7))\n",
    "#sns.countplot(frequency.Frequency, color='blue')"
   ]
  },
  {
   "cell_type": "code",
   "execution_count": null,
   "metadata": {
    "id": "sgirA1v-g78S"
   },
   "outputs": [],
   "source": [
    "#monetary = df_uk.groupby(\"CustomerID\").agg({\"TotalPrice\":\"sum\"}).rename(columns={\"TotalPrice\":\"Monetary\"})\n"
   ]
  },
  {
   "cell_type": "code",
   "execution_count": null,
   "metadata": {
    "id": "UZH_l4Yzg78S"
   },
   "outputs": [],
   "source": [
    "#plt.figure(figsize=(12,7))\n",
    "#sns.distplot(monetary.Monetary, kde=False, color='red')"
   ]
  },
  {
   "cell_type": "code",
   "execution_count": null,
   "metadata": {
    "id": "7evck6TDg78S"
   },
   "outputs": [],
   "source": [
    "#RMF2 = pd.concat([recency, frequency, monetary],  axis=1)\n",
    "#RMF2"
   ]
  },
  {
   "cell_type": "markdown",
   "metadata": {
    "id": "yGLkb2_xg78S"
   },
   "source": [
    "### ----------the end-----------"
   ]
  },
  {
   "cell_type": "markdown",
   "metadata": {
    "id": "ULWwsxCkQGWl"
   },
   "source": [
    "# 3. Customer Segmentation with RFM Scores"
   ]
  },
  {
   "cell_type": "markdown",
   "metadata": {
    "id": "TZrxUBX4iqbB"
   },
   "source": [
    "Businesses have this ever-lasting urge to understand their customers. The better you understand the customer, the better you serve them, and the higher the financial gain you receive from that customer. Since the dawn of trade, this process of understanding customers for a strategic gain has been there practiced and this task is known majorly as [Customer Segmentation](https://clevertap.com/blog/rfm-analysis/).\n",
    "Well as the name suggests, Customer Segmentation could segment customers according to their precise needs. Some of the common ways of segmenting customers are based on their Recency-Frequency-Monatory values, their demographics like gender, region, country, etc, and some of their business-crafted scores. You will use Recency-Frequency-Monatory values for this case.\n",
    "\n",
    "In this section, you will create an RFM Segmentation Table where you segment your customers by using the RFM table. For example, you can label the best customer as \"Big Spenders\" and the lost customer as \"Lost Customer\"."
   ]
  },
  {
   "cell_type": "markdown",
   "metadata": {
    "id": "anOsOGpfQGWl"
   },
   "source": [
    "## Calculate RFM Scoring\n",
    "\n",
    "The simplest way to create customer segments from an RFM model is by using **Quartiles**. We will assign a score from 1 to 4 to each category (Recency, Frequency, and Monetary) with 4 being the highest/best value. The final RFM score is calculated by combining all RFM values. For Customer Segmentation, you will use the df_rfm data set resulting from the RFM analysis.\n",
    "<br>\n",
    "<br>\n",
    "**Note**: Data can be assigned into more groups for better granularity, but we will use 4 in this case."
   ]
  },
  {
   "cell_type": "markdown",
   "metadata": {
    "id": "WiwXSsP7iqbB"
   },
   "source": [
    "1. Divide the df_rfm into quarters"
   ]
  },
  {
   "cell_type": "code",
   "execution_count": null,
   "metadata": {
    "colab": {
     "base_uri": "https://localhost:8080/",
     "height": 206
    },
    "id": "-yClamDPg78T",
    "outputId": "d720f865-c0c4-4a77-b037-66aee85af0df"
   },
   "outputs": [],
   "source": [
    "df_rfm=pd.merge(pd.merge(cust_recency, cust_frequency, on='CustomerID'), cust_monetary , on='CustomerID')\n",
    "df_rfm.head()"
   ]
  },
  {
   "cell_type": "code",
   "execution_count": null,
   "metadata": {
    "colab": {
     "base_uri": "https://localhost:8080/"
    },
    "id": "I1E5UAhmg78T",
    "outputId": "522f0cd9-bf54-4c24-ff8d-61b4afe5d056"
   },
   "outputs": [],
   "source": [
    "df_rfm.shape"
   ]
  },
  {
   "cell_type": "code",
   "execution_count": null,
   "metadata": {
    "colab": {
     "base_uri": "https://localhost:8080/",
     "height": 237
    },
    "id": "ttCy-vbTg78U",
    "outputId": "67d0a1f2-39db-4fcb-b3d2-c7deb76a6c74"
   },
   "outputs": [],
   "source": [
    "df_rfm = df_rfm.set_index('CustomerID')\n",
    "df_rfm.head()"
   ]
  },
  {
   "cell_type": "code",
   "execution_count": null,
   "metadata": {
    "colab": {
     "base_uri": "https://localhost:8080/"
    },
    "id": "NMe5TZqJg78U",
    "outputId": "907e4e4f-6589-4a51-dea1-360c6a7e6376"
   },
   "outputs": [],
   "source": [
    "df_rfm.duplicated().any()"
   ]
  },
  {
   "cell_type": "code",
   "execution_count": null,
   "metadata": {
    "id": "mFQJGPYHiqbC"
   },
   "outputs": [],
   "source": [
    "#def limit(x):\n",
    "#  Q1 = df_rfm[x].quantile(0.25)\n",
    " # Q3 = df_rfm[x].quantile(0.75)\n",
    "#  IQR = Q3 - Q1\n",
    " # minimum_limit = Q1 - (1.5 * IQR)\n",
    "#  maximum_limit = Q3 + (1.5 * IQR)\n",
    " # print('Minimum limit', minimum_limit)\n",
    " # print('Maximum limit', maximum_limit)\n",
    " # print('Outliers percentage under the minimum limit: {} %'.format(df_rfm[(df_rfm[x] < minimum_limit)].shape[0] / df_rfm.shape[0]*100))\n",
    " # print('Outliers percentage over the maximum limit: {} %'.format(df_rfm[(df_rfm[x] > maximum_limit)].shape[0] / df_rfm.shape[0]*100))"
   ]
  },
  {
   "cell_type": "code",
   "execution_count": null,
   "metadata": {
    "colab": {
     "base_uri": "https://localhost:8080/",
     "height": 300
    },
    "id": "u_3rJrVrg78U",
    "outputId": "21ab7194-8278-4915-d455-0ce899bb6654"
   },
   "outputs": [],
   "source": [
    "df_rfm.describe(include='all')"
   ]
  },
  {
   "cell_type": "markdown",
   "metadata": {
    "id": "KnkzCAf9QGWo"
   },
   "source": [
    "### i. Creating the RFM Segmentation Table\n"
   ]
  },
  {
   "cell_type": "markdown",
   "metadata": {
    "id": "hLIB-z-_iqbC"
   },
   "source": [
    "1. Create two functions, one for Recency and one for Frequency and Monetary. For Recency, customers in the first quarter should be scored as 4, this represents the highest Recency value. Conversely, for Frequency and Monetary, customers in the last quarter should be scored as 4, representing the highest Frequency and Monetary values."
   ]
  },
  {
   "cell_type": "markdown",
   "metadata": {
    "id": "UeP9xxnHg78V"
   },
   "source": [
    "2. Score customers from 1 to 4 by applying the functions you have created. Also create separate score column for each value. "
   ]
  },
  {
   "cell_type": "markdown",
   "metadata": {
    "id": "fVRYD3oeg78V"
   },
   "source": [
    "FOR RECENCY"
   ]
  },
  {
   "cell_type": "code",
   "execution_count": null,
   "metadata": {
    "colab": {
     "base_uri": "https://localhost:8080/"
    },
    "id": "SXnW03R8iqbC",
    "outputId": "af42126d-ac62-4766-c200-7f68b8789f5c"
   },
   "outputs": [],
   "source": [
    "df_rfm[\"Recency\"].quantile(q = [.25,.5,.75])"
   ]
  },
  {
   "cell_type": "code",
   "execution_count": null,
   "metadata": {
    "id": "wjG0ZLbUg78V"
   },
   "outputs": [],
   "source": [
    "def recency_scoring(data):\n",
    "    if data[\"Recency\"] <= 17.000:\n",
    "        return 4\n",
    "    elif data[\"Recency\"] <= 50.000:\n",
    "        return 3\n",
    "    elif data[\"Recency\"] <= 142.000:\n",
    "        return 2\n",
    "    else:\n",
    "        return 1"
   ]
  },
  {
   "cell_type": "code",
   "execution_count": null,
   "metadata": {
    "colab": {
     "base_uri": "https://localhost:8080/",
     "height": 237
    },
    "id": "97yAvV3mg78V",
    "outputId": "b5a38560-0bad-4151-e632-bd158cd4fd0c"
   },
   "outputs": [],
   "source": [
    "df_rfm['recency_quantile'] = df_rfm.apply(recency_scoring, axis =1)\n",
    "df_rfm.head()"
   ]
  },
  {
   "cell_type": "code",
   "execution_count": null,
   "metadata": {
    "colab": {
     "base_uri": "https://localhost:8080/",
     "height": 536
    },
    "id": "e4RpcYrsg78W",
    "outputId": "add4289d-8d17-43d8-a374-1788b0afcf9a"
   },
   "outputs": [],
   "source": [
    "plt.figure(figsize=(20, 9))\n",
    "df_rfm.recency_quantile.value_counts().plot(\n",
    "    kind='pie', autopct='%1.1f%%', shadow=True, startangle=0)\n",
    "plt.title('Recency Score Distribution')\n",
    "plt.show()"
   ]
  },
  {
   "cell_type": "markdown",
   "metadata": {
    "id": "vUuOuQQrg78W"
   },
   "source": [
    "FOR FREQUENCY"
   ]
  },
  {
   "cell_type": "code",
   "execution_count": null,
   "metadata": {
    "colab": {
     "base_uri": "https://localhost:8080/"
    },
    "id": "viLlL12Wg78W",
    "outputId": "a708e966-ad9c-4bbd-a99c-2a113b422400"
   },
   "outputs": [],
   "source": [
    "df_rfm[\"Frequency\"]"
   ]
  },
  {
   "cell_type": "code",
   "execution_count": null,
   "metadata": {
    "colab": {
     "base_uri": "https://localhost:8080/"
    },
    "id": "Oi8VHkWsg78W",
    "outputId": "c9b3125d-7346-4bec-8499-db33de92487d"
   },
   "outputs": [],
   "source": [
    "df_rfm[\"Frequency\"].quantile(q = [.25,.5,.75])"
   ]
  },
  {
   "cell_type": "code",
   "execution_count": null,
   "metadata": {
    "id": "MoFFyHN-g78W"
   },
   "outputs": [],
   "source": [
    "def frequency_scoring(data):\n",
    "    if data.Frequency <= 1.0:\n",
    "        return 1\n",
    "    elif data.Frequency <= 2.0:\n",
    "        return 2\n",
    "    elif data.Frequency <= 5.0:\n",
    "        return 3\n",
    "    else:\n",
    "        return 4"
   ]
  },
  {
   "cell_type": "code",
   "execution_count": null,
   "metadata": {
    "colab": {
     "base_uri": "https://localhost:8080/",
     "height": 237
    },
    "id": "7qAxBqXYg78X",
    "outputId": "bcc7676c-c356-4ed3-da49-011a4f7e6592"
   },
   "outputs": [],
   "source": [
    "df_rfm['frequency_quantile'] = df_rfm.apply(frequency_scoring, axis =1)\n",
    "df_rfm.head()"
   ]
  },
  {
   "cell_type": "code",
   "execution_count": null,
   "metadata": {
    "colab": {
     "base_uri": "https://localhost:8080/",
     "height": 536
    },
    "id": "5uhCAOIDg78X",
    "outputId": "5d699011-cb04-45ef-be21-4f0610d3df6f"
   },
   "outputs": [],
   "source": [
    "plt.figure(figsize=(20, 9))\n",
    "df_rfm.frequency_quantile.value_counts().plot(\n",
    "    kind='pie', autopct='%1.1f%%', shadow=True, startangle=0)\n",
    "plt.title('Recency Score Distribution')\n",
    "plt.show()"
   ]
  },
  {
   "cell_type": "markdown",
   "metadata": {
    "id": "Fp_oe_Ing78X"
   },
   "source": [
    "FOR MONETARY"
   ]
  },
  {
   "cell_type": "code",
   "execution_count": null,
   "metadata": {
    "colab": {
     "base_uri": "https://localhost:8080/"
    },
    "id": "mMeIBBd7g78X",
    "outputId": "9d56ae7d-db62-4faa-a0b0-da5b73a295d1"
   },
   "outputs": [],
   "source": [
    "df_rfm[\"Monetary\"].quantile(q = [.25,.5,.75])"
   ]
  },
  {
   "cell_type": "code",
   "execution_count": null,
   "metadata": {
    "id": "WT-uHIEKg78Y"
   },
   "outputs": [],
   "source": [
    "def monetary_scoring(data):\n",
    "    if data.Monetary <= 298.185:\n",
    "        return 1\n",
    "    elif data.Monetary <= 644.975:\n",
    "        return 2\n",
    "    elif data.Monetary <= 1571.285:\n",
    "        return 3\n",
    "    else:\n",
    "        return 4"
   ]
  },
  {
   "cell_type": "code",
   "execution_count": null,
   "metadata": {
    "colab": {
     "base_uri": "https://localhost:8080/",
     "height": 237
    },
    "id": "C_lH71Q-g78Y",
    "outputId": "0b896745-0166-481a-86df-7dc04f79d776"
   },
   "outputs": [],
   "source": [
    "df_rfm['monetary_quantile'] = df_rfm.apply(monetary_scoring, axis =1)\n",
    "df_rfm.head()"
   ]
  },
  {
   "cell_type": "code",
   "execution_count": null,
   "metadata": {
    "colab": {
     "base_uri": "https://localhost:8080/",
     "height": 536
    },
    "id": "RbB4ujaHg78Y",
    "outputId": "e8456450-7b40-4940-a528-e458b6c772b7"
   },
   "outputs": [],
   "source": [
    "plt.figure(figsize=(20, 9))\n",
    "df_rfm.monetary_quantile.value_counts().plot(\n",
    "    kind='pie', autopct='%1.1f%%', shadow=True, startangle=0)\n",
    "plt.title('Recency Score Distribution')\n",
    "plt.show()"
   ]
  },
  {
   "cell_type": "markdown",
   "metadata": {
    "id": "JskteCFdQGWq"
   },
   "source": [
    "3. Now that scored each customer, you'll combine the scores for segmentation."
   ]
  },
  {
   "cell_type": "code",
   "execution_count": null,
   "metadata": {
    "id": "AqeJCgRsg78Z"
   },
   "outputs": [],
   "source": [
    "def rfm_scoring(data):\n",
    "    return str(int(data['recency_quantile'])) + str(int(data['frequency_quantile'])) + str(int(data['monetary_quantile']))\n"
   ]
  },
  {
   "cell_type": "code",
   "execution_count": null,
   "metadata": {
    "colab": {
     "base_uri": "https://localhost:8080/",
     "height": 301
    },
    "id": "-RJTHVXHg78Z",
    "outputId": "6be65043-5a22-4de6-984e-b7da18ddfc26"
   },
   "outputs": [],
   "source": [
    "df_rfm['rfm_score'] = df_rfm.apply(rfm_scoring, axis=1)\n",
    "df_rfm.head()"
   ]
  },
  {
   "cell_type": "markdown",
   "metadata": {
    "id": "uWwWeyjPiqbC"
   },
   "source": [
    "4. Define rfm_level function that tags customers by using RFM_Scrores and Create a new variable RFM_Level"
   ]
  },
  {
   "cell_type": "code",
   "execution_count": null,
   "metadata": {
    "colab": {
     "base_uri": "https://localhost:8080/",
     "height": 301
    },
    "id": "mxXk7jFPiqbD",
    "outputId": "0ba76460-e2b3-4d4a-a343-a20418af2dd7"
   },
   "outputs": [],
   "source": [
    "df_rfm['rfm_level'] = df_rfm['recency_quantile'] + df_rfm['frequency_quantile'] + df_rfm['monetary_quantile']\n",
    "df_rfm.head()"
   ]
  },
  {
   "cell_type": "code",
   "execution_count": null,
   "metadata": {
    "colab": {
     "base_uri": "https://localhost:8080/"
    },
    "id": "kmr3i815g78Z",
    "outputId": "50661b98-d389-4839-ea3e-d6ad4e44863d"
   },
   "outputs": [],
   "source": [
    "# Let's see how many of which \"rfm_score\" here are.\n",
    "df_rfm['rfm_score'].value_counts().sort_values(ascending=False).head()\n"
   ]
  },
  {
   "cell_type": "markdown",
   "metadata": {
    "id": "Lq36PiX3iqbD"
   },
   "source": [
    "5. Calculate average values for each RFM_Level, and return a size of each segment "
   ]
  },
  {
   "cell_type": "code",
   "execution_count": null,
   "metadata": {
    "id": "jn5r5P2WiqbD"
   },
   "outputs": [],
   "source": [
    "def segments1(data):\n",
    "    if data['rfm_level'] >= 10 :\n",
    "        return 'Gold'\n",
    "    elif (data['rfm_level'] >= 6) and (data['rfm_level'] < 10 ):\n",
    "        return 'Silver'\n",
    "    else:  \n",
    "        return 'Bronze'"
   ]
  },
  {
   "cell_type": "code",
   "execution_count": null,
   "metadata": {
    "colab": {
     "base_uri": "https://localhost:8080/",
     "height": 301
    },
    "id": "9obv8tddg78a",
    "outputId": "a468bc61-bb54-45f8-9a96-e83d51d66c58"
   },
   "outputs": [],
   "source": [
    "df_rfm['segments1'] = df_rfm.apply(segments1,axis=1)\n",
    "df_rfm.head()"
   ]
  },
  {
   "cell_type": "code",
   "execution_count": null,
   "metadata": {
    "colab": {
     "base_uri": "https://localhost:8080/",
     "height": 331
    },
    "id": "52m7FrS0g78a",
    "outputId": "c442d17e-64d3-4e26-d2be-0332c8e6127f"
   },
   "outputs": [],
   "source": [
    "segments2 = {\n",
    "             'Customer Segment':\n",
    "                                ['Champions',\n",
    "                                 'Loyal Customers',\n",
    "                                 'Potential Loyalist', \n",
    "                                 'Recent Customers', \n",
    "                                 'Customers Needing Attention', \n",
    "                                 'Still Got Hope', \n",
    "                                 'Need to Get Them Back',\n",
    "                                 'Lost', 'Give it a Try'],\\\n",
    "                           'RFM':\n",
    "                                ['(3|4)-(3|4)-(3|4)', \n",
    "                                 '(2|3|4)-(3|4)-(1|2|3|4)', \n",
    "                                 '(3|4)-(2|3)-(1|2|3|4)', \n",
    "                                 '(4)-(1)-(1|2|3|4)', \n",
    "                                 '(2|3)-(2|3)-(2|3)', \n",
    "                                 '(2|3)-(1|2)-(1|2|3|4)', \n",
    "                                 '(1|2)-(3|4)-(2|3|4)', \n",
    "                                 '(1|2)-(1|2)-(1|2)',\n",
    "                                 '(1|2)-(1|2|3)-(1|2|3|4)']\n",
    "            }\n",
    "pd.DataFrame(segments2)"
   ]
  },
  {
   "cell_type": "code",
   "execution_count": null,
   "metadata": {
    "id": "d2tgM5mUg78b"
   },
   "outputs": [],
   "source": [
    "def categorizer(rfm):\n",
    "    if (rfm[0] in ['3', '4']) & (rfm[1] in ['3', '4']) & (rfm[2] in ['3', '4']):\n",
    "        rfm = 'Champions'\n",
    "        \n",
    "    elif (rfm[0] in ['2', '3', '4']) & (rfm[1] in ['3', '4']) & (rfm[2] in ['1', '2', '3', '4']):\n",
    "        rfm = 'Loyal Customers'\n",
    "        \n",
    "    elif (rfm[0] in ['3', '4']) & (rfm[1] in ['2', '3']) & (rfm[2] in ['1', '2', '3', '4']):\n",
    "        rfm = 'Potential Loyalist'\n",
    "    \n",
    "    elif (rfm[0] in ['4']) & (rfm[1] in ['1']) & (rfm[2] in ['1', '2', '3', '4']):\n",
    "        rfm = 'Recent Customers'\n",
    "    \n",
    "    elif (rfm[0] in ['2', '3']) & (rfm[1] in ['2', '3']) & (rfm[2] in ['2', '3']):\n",
    "        rfm = 'Customers Needing Attention'\n",
    "    \n",
    "    elif (rfm[0] in ['2', '3']) & (rfm[1] in ['1', '2']) & (rfm[2] in ['1', '2', '3', '4']):\n",
    "        rfm = 'Still Got Hope'\n",
    "    \n",
    "    elif (rfm[0] in ['1', '2']) & (rfm[1] in ['3', '4']) & (rfm[2] in ['2', '3', '4']):\n",
    "        rfm = 'Need to Get Them Back'\n",
    "                \n",
    "    elif (rfm[0] in ['1', '2']) & (rfm[1] in ['1', '2']) & (rfm[2] in ['1', '2']):\n",
    "        rfm = 'Lost'\n",
    "    \n",
    "    elif (rfm[0] in ['1', '2']) & (rfm[1] in ['1', '2', '3']) & (rfm[2] in ['1', '2', '3', '4']):\n",
    "        rfm = 'Give it a Try'\n",
    "    \n",
    "    return rfm "
   ]
  },
  {
   "cell_type": "code",
   "execution_count": null,
   "metadata": {
    "colab": {
     "base_uri": "https://localhost:8080/",
     "height": 719
    },
    "id": "0S_vkKt1g78b",
    "outputId": "02653a87-67ba-4fa5-f83a-a03c237111bd"
   },
   "outputs": [],
   "source": [
    "df_rfm['segments2'] = df_rfm[\"rfm_score\"].apply(categorizer)\n",
    "df_rfm.head(15)"
   ]
  },
  {
   "cell_type": "code",
   "execution_count": null,
   "metadata": {
    "colab": {
     "base_uri": "https://localhost:8080/",
     "height": 455
    },
    "id": "58kEf3HQg78c",
    "outputId": "117819c4-ea04-44fb-c302-a691894e9520"
   },
   "outputs": [],
   "source": [
    "df_rfm_seg=df_rfm.iloc[:,[6,7,8,9]]\n",
    "df_rfm_seg"
   ]
  },
  {
   "cell_type": "code",
   "execution_count": null,
   "metadata": {
    "colab": {
     "base_uri": "https://localhost:8080/"
    },
    "id": "7-PnSJuFg78c",
    "outputId": "546e9074-3f85-4d94-eed8-067e1a67a73e"
   },
   "outputs": [],
   "source": [
    "df_rfm[\"segments2\"].value_counts(dropna=False)"
   ]
  },
  {
   "cell_type": "markdown",
   "metadata": {
    "id": "tuZ5Olo4iqbD"
   },
   "source": [
    "## Plot RFM Segments"
   ]
  },
  {
   "cell_type": "markdown",
   "metadata": {
    "id": "STfELckwiqbD"
   },
   "source": [
    "1. Create your plot and resize it."
   ]
  },
  {
   "cell_type": "markdown",
   "metadata": {
    "id": "EDRjhmKCg78d"
   },
   "source": [
    "For SEGMENTS1"
   ]
  },
  {
   "cell_type": "code",
   "execution_count": null,
   "metadata": {
    "colab": {
     "base_uri": "https://localhost:8080/",
     "height": 143
    },
    "id": "Oef37q3diqbD",
    "outputId": "2cd3ce0e-0069-489e-ebfe-abf013a66942"
   },
   "outputs": [],
   "source": [
    "df_plot1 = pd.DataFrame(df_rfm[\"segments1\"].value_counts(dropna=False).sort_values(ascending=False)).reset_index().rename(columns={'index':'Segments', 'segments1':'Customers'})\n",
    "df_plot1"
   ]
  },
  {
   "cell_type": "code",
   "execution_count": null,
   "metadata": {
    "colab": {
     "base_uri": "https://localhost:8080/",
     "height": 637
    },
    "id": "YQ0VJnGrg78d",
    "outputId": "51939718-0916-4be9-fe9e-a17ce6369e29"
   },
   "outputs": [],
   "source": [
    "\n",
    "fig = px.treemap(df_plot1,\n",
    "                 path=[df_plot1.Segments], \n",
    "                 values='Customers', \n",
    "                 width=1000, \n",
    "                 height=600)\n",
    "fig.update_layout(title=\"RFM PLOT WITH SEGMENTS1\",\n",
    "                  title_x = 0.5, title_font = dict(size=20),\n",
    "                 )\n",
    "fig.update_layout(margin = dict(t=50, l=25, r=25, b=25))\n",
    "fig.show()"
   ]
  },
  {
   "cell_type": "code",
   "execution_count": null,
   "metadata": {
    "colab": {
     "base_uri": "https://localhost:8080/",
     "height": 637
    },
    "id": "g4l4Fvmxg78d",
    "outputId": "e1ee0d50-d25d-4d60-afe0-1e9365dc0f32"
   },
   "outputs": [],
   "source": [
    "fig = px.bar(df_plot1, x = \"Segments\", y = \"Customers\", width=950, height=600)\n",
    "fig.update_yaxes(categoryorder='total ascending')\n",
    "fig.update_layout(title=\"RFM PLOT WITH SEGMENTS1\", xaxis_title=\"SEGMENTS1\", yaxis_title=\"CUSTOMERS\", legend_title=\"Segments1\", title_font_color=\"red\", title_x=0.5,\n",
    "                  font=dict(family=\"Courier New, monospace\", size=20, color=\"RebeccaPurple\")\n",
    "                 )\n",
    "fig.show()"
   ]
  },
  {
   "cell_type": "code",
   "execution_count": null,
   "metadata": {
    "colab": {
     "base_uri": "https://localhost:8080/",
     "height": 482
    },
    "id": "0oT_q4h2g78e",
    "outputId": "dbc71139-deb4-4439-a8d7-76a69893d6d2"
   },
   "outputs": [],
   "source": [
    "# SEABORN\n",
    "\n",
    "# Show Values on Seaborn Barplot\n",
    "def show_values(axs, orient=\"v\", space=.01):\n",
    "    def _single(ax):\n",
    "        if orient == \"v\":\n",
    "            for p in ax.patches:\n",
    "                _x = p.get_x() + p.get_width() / 2\n",
    "                _y = p.get_y() + p.get_height() + (p.get_height()*0.01)\n",
    "                value = '{:.1f}'.format(p.get_height())\n",
    "                ax.text(_x, _y, value, ha=\"center\") \n",
    "        elif orient == \"h\":\n",
    "            for p in ax.patches:\n",
    "                _x = p.get_x() + p.get_width() + float(space)\n",
    "                _y = p.get_y() + p.get_height() - (p.get_height()*0.5)\n",
    "                value = '{:.1f}'.format(p.get_width())\n",
    "                ax.text(_x, _y, value, ha=\"left\")\n",
    "\n",
    "    if isinstance(axs, np.ndarray):\n",
    "        for idx, ax in np.ndenumerate(axs):\n",
    "            _single(ax)\n",
    "    else:\n",
    "        _single(axs)\n",
    "        \n",
    "plt.figure(figsize=(16, 9))\n",
    "plt.title(\"RFM PLOT WITH SEGMENTS1\")\n",
    "p = sns.barplot(data = df_plot1, x = 'Segments', y = 'Customers', palette = 'viridis')\n",
    "p.set(xlabel='SEGMENTS1', ylabel='CUSTOMERS')\n",
    "show_values(p);\n"
   ]
  },
  {
   "cell_type": "markdown",
   "metadata": {
    "id": "LoQ7jERsg78e"
   },
   "source": [
    "For SEGMENTS2"
   ]
  },
  {
   "cell_type": "code",
   "execution_count": null,
   "metadata": {
    "colab": {
     "base_uri": "https://localhost:8080/",
     "height": 363
    },
    "id": "o0Zpnm_-g78e",
    "outputId": "4765e134-9ce9-4022-9302-9c3c89d8eab9"
   },
   "outputs": [],
   "source": [
    "df_plot2 = pd.DataFrame(df_rfm[\"segments2\"].value_counts(dropna=False).sort_values(ascending=False)).reset_index().rename(columns={'index':'Segments', 'segments2':'Customers'})\n",
    "df_plot2"
   ]
  },
  {
   "cell_type": "code",
   "execution_count": null,
   "metadata": {
    "colab": {
     "base_uri": "https://localhost:8080/",
     "height": 637
    },
    "id": "wFfeciYqg78e",
    "outputId": "ed3ba8aa-c395-4f8f-99fc-efe6f90197a9"
   },
   "outputs": [],
   "source": [
    "fig = px.treemap(df_plot2,\n",
    "                 path=[df_plot2.Segments], \n",
    "                 values='Customers', \n",
    "                 width=1000, \n",
    "                 height=600)\n",
    "fig.update_layout(title=\"RFM PLOT WITH SEGMENTS1\",\n",
    "                  title_x = 0.5, title_font = dict(size=20),\n",
    "                 )\n",
    "fig.update_layout(margin = dict(t=50, l=25, r=25, b=25))\n",
    "fig.show()"
   ]
  },
  {
   "cell_type": "code",
   "execution_count": null,
   "metadata": {
    "colab": {
     "base_uri": "https://localhost:8080/",
     "height": 569
    },
    "id": "nRbT6hFug78f",
    "outputId": "6722d3b2-2afa-4c69-9627-051afd702654"
   },
   "outputs": [],
   "source": [
    "# MATPLOTLIB\n",
    "y = df_plot2.Customers.values\n",
    "x = df_plot2.Segments.values\n",
    "\n",
    "fig, ax = plt.subplots(figsize = (16,9), dpi=72)\n",
    "ax.bar(x,y,width=0.4)\n",
    "\n",
    "plt.title(\"RFM PLOT WITH SEGMENTS2\")\n",
    "plt.xlabel(\"SEGMENTS2\");\n",
    "plt.ylabel(\"CUSTOMERS\");\n",
    "plt.xticks(rotation = 45)\n",
    "\n",
    "for index,value in enumerate(y):\n",
    "    plt.text(x=index , y =value , s=str(value) , ha=\"center\", va=\"bottom\", color = 'gray', fontweight = 'bold', fontdict=dict(fontsize=20))\n",
    "plt.show()"
   ]
  },
  {
   "cell_type": "code",
   "execution_count": null,
   "metadata": {
    "colab": {
     "base_uri": "https://localhost:8080/",
     "height": 569
    },
    "id": "Dxmkzdx4g78f",
    "outputId": "a23b11b2-8fab-4711-cfb9-f4515d201a32"
   },
   "outputs": [],
   "source": [
    "# SEABORN\n",
    "\n",
    "plt.figure(figsize=(16, 9))\n",
    "plt.title(\"RFM PLOT WITH SEGMENTS2\")\n",
    "ax = sns.barplot(data = df_plot2, x = 'Segments', y = 'Customers', palette = 'viridis')\n",
    "plt.xticks(rotation = 45)\n",
    "ax.set(xlabel='SEGMENTS2', ylabel='CUSTOMERS')\n",
    "show_values(ax);"
   ]
  },
  {
   "cell_type": "code",
   "execution_count": null,
   "metadata": {
    "id": "zRsUb4Tkg78f"
   },
   "outputs": [],
   "source": []
  },
  {
   "cell_type": "markdown",
   "metadata": {
    "id": "FhOe2bb6QGWu"
   },
   "source": [
    "Using customer segmentation categories found [here](http://www.blastam.com/blog/rfm-analysis-boosts-sales). We can formulate different marketing strategies and approaches for customer engagement for each type of customer.\n",
    "\n",
    "Note: The author in the article scores 1 as the highest and 4 as the lowest"
   ]
  },
  {
   "cell_type": "markdown",
   "metadata": {
    "id": "Te_6gUR5iqbD"
   },
   "source": [
    "2. How many customers do we have in each segment?"
   ]
  },
  {
   "cell_type": "code",
   "execution_count": null,
   "metadata": {
    "colab": {
     "base_uri": "https://localhost:8080/",
     "height": 174
    },
    "id": "Gs4rP-0viqbD",
    "outputId": "ca093ab8-96c3-415b-b850-01e2a910f9fb"
   },
   "outputs": [],
   "source": [
    "df_rfm[(df_rfm[\"segments1\"] == \"Gold\")][[\"segments1\",\"segments2\"]].sample(3)"
   ]
  },
  {
   "cell_type": "markdown",
   "metadata": {
    "id": "1RwemvLyQGWv"
   },
   "source": [
    "# 3. Applying K-Means Clustering"
   ]
  },
  {
   "cell_type": "markdown",
   "metadata": {
    "id": "h6WZ0PnZQGWv"
   },
   "source": [
    "Now that we have our customers segmented into different categories, we can gain further insight into customer behavior by using predictive models in conjuction with out RFM model.\n",
    "Possible algorithms include **Logistic Regression**, **K-means Clustering**, and **K-nearest Neighbor**. We will go with [K-Means](https://towardsdatascience.com/understanding-k-means-clustering-in-machine-learning-6a6e67336aa1) since we already have our distinct groups determined. K-means has also been widely used for market segmentation and has the advantage of being simple to implement."
   ]
  },
  {
   "cell_type": "markdown",
   "metadata": {
    "id": "IrWIRLkMiqbE"
   },
   "source": [
    "## Data Pre-Processing and Exploring"
   ]
  },
  {
   "cell_type": "code",
   "execution_count": null,
   "metadata": {
    "colab": {
     "base_uri": "https://localhost:8080/",
     "height": 423
    },
    "id": "cLoRGR6NiqbE",
    "outputId": "a667594f-bc22-40a0-ef76-62d322f011af"
   },
   "outputs": [],
   "source": [
    "df_rfm = pd.read_csv(\"df_rfm1.csv\")\n",
    "df_rfm"
   ]
  },
  {
   "cell_type": "code",
   "execution_count": null,
   "metadata": {
    "colab": {
     "base_uri": "https://localhost:8080/",
     "height": 206
    },
    "id": "oDBHSWtNFHht",
    "outputId": "1c278cb8-de28-4762-c368-91f570b21735"
   },
   "outputs": [],
   "source": [
    "df_rfm.drop('CustomerID', axis=1, inplace=True)\n",
    "df_rfm.head()"
   ]
  },
  {
   "cell_type": "code",
   "execution_count": null,
   "metadata": {
    "colab": {
     "base_uri": "https://localhost:8080/"
    },
    "id": "KeorFUrMNgQ4",
    "outputId": "fca7714e-b605-4462-dd8e-6fd8ddd859ef"
   },
   "outputs": [],
   "source": [
    "df_rfm.isnull().value_counts()"
   ]
  },
  {
   "cell_type": "code",
   "execution_count": null,
   "metadata": {
    "colab": {
     "base_uri": "https://localhost:8080/"
    },
    "id": "kI8cfVEyFuMv",
    "outputId": "e4af01f2-f69e-42f1-96dc-c6986a8f43bd"
   },
   "outputs": [],
   "source": [
    "# Rescaling the attributes\n",
    "import sklearn\n",
    "from sklearn.preprocessing import StandardScaler\n",
    "df_rfm  = df_rfm[['Recency', 'Frequency', 'Monetary' ]]\n",
    "\n",
    "# Instantiate\n",
    "scaler = StandardScaler()\n",
    "\n",
    "# fit_transform\n",
    "df_rfm_scaled = scaler.fit_transform(df_rfm)\n",
    "df_rfm_scaled.shape"
   ]
  },
  {
   "cell_type": "code",
   "execution_count": null,
   "metadata": {
    "colab": {
     "base_uri": "https://localhost:8080/",
     "height": 206
    },
    "id": "ngyvqMJMH5y9",
    "outputId": "f70714d2-ce16-49b1-8bb5-4368d1813570"
   },
   "outputs": [],
   "source": [
    "df_rfm_scaled = pd.DataFrame(df_rfm_scaled)\n",
    "df_rfm_scaled.columns = ['Recency', 'Frequency', 'Monetary']\n",
    "df_rfm_scaled.head()"
   ]
  },
  {
   "cell_type": "markdown",
   "metadata": {
    "id": "-6SGV0xoQGWw"
   },
   "source": [
    "### i. Define and Plot Feature Correlations"
   ]
  },
  {
   "cell_type": "markdown",
   "metadata": {
    "id": "JpMAiWNBiqbE"
   },
   "source": [
    "Create Heatmap and evaluate the results "
   ]
  },
  {
   "cell_type": "code",
   "execution_count": null,
   "metadata": {
    "colab": {
     "base_uri": "https://localhost:8080/",
     "height": 287
    },
    "id": "I6Cv8_EqiqbE",
    "outputId": "7f4df241-4e23-4353-c542-67ef6b7b8930"
   },
   "outputs": [],
   "source": [
    "# library\n",
    "import seaborn as sns\n",
    "import pandas as pd\n",
    "import numpy as np\n",
    "\n",
    "# Create a dataset\n",
    "#df = pd.DataFrame(np.random.random((5,5)), columns=[\"a\",\"b\",\"c\",\"d\",\"e\"])\n",
    "\n",
    "# Default heatmap\n",
    "sns.heatmap(df_rfm_scaled, cmap='PuOr')\n"
   ]
  },
  {
   "cell_type": "markdown",
   "metadata": {
    "id": "8WhL5MBEQGWy"
   },
   "source": [
    "### ii. Visualize Feature Distributions\n",
    "\n",
    "To get a better understanding of the dataset, you can costruct a scatter matrix of each of the three features in the RFM data."
   ]
  },
  {
   "cell_type": "code",
   "execution_count": null,
   "metadata": {
    "colab": {
     "base_uri": "https://localhost:8080/",
     "height": 542
    },
    "id": "FHE0Vb0KiqbE",
    "outputId": "b7e0b2b9-731e-4263-c9f2-8d44bda76196"
   },
   "outputs": [],
   "source": [
    "import plotly.express as px\n",
    "fig = px.scatter_matrix(df_rfm_scaled)\n",
    "fig.show()"
   ]
  },
  {
   "cell_type": "markdown",
   "metadata": {
    "id": "Q2RsjzjbQGWz"
   },
   "source": [
    "### iii. Data Normalization"
   ]
  },
  {
   "cell_type": "markdown",
   "metadata": {
    "id": "hXsrPpegiqbF"
   },
   "source": [
    "1. Logarithmic Tranformation can be used to normalize the values in a column.\n",
    "2. Plot normalized data with scatter matrix or pairplot. Also evaluate results."
   ]
  },
  {
   "cell_type": "code",
   "execution_count": null,
   "metadata": {
    "colab": {
     "base_uri": "https://localhost:8080/",
     "height": 643
    },
    "id": "iB9jDUPriqbF",
    "outputId": "981c9938-da24-4e3a-9c01-15164d653469"
   },
   "outputs": [],
   "source": [
    "print(\"                ----------------- Distribution Plots for R,F,M -------------------------------\")\n",
    "\n",
    "# Checking the distribution of Recency, Frequency and MonetaryValue variables.\n",
    "plt.figure(figsize=(12,10))\n",
    "# Plot distribution of var1\n",
    "plt.subplot(3, 1, 1); sns.distplot(df_rfm['Recency'])\n",
    "# Plot distribution of var2\n",
    "plt.subplot(3, 1, 2); sns.distplot(df_rfm['Frequency'])\n",
    "# Plot distribution of var3\n",
    "plt.subplot(3, 1, 3); sns.distplot(df_rfm['Monetary'])"
   ]
  },
  {
   "cell_type": "markdown",
   "metadata": {
    "id": "YLjmj7eOKfwr"
   },
   "source": [
    "From the above figure, all the variables do not have a symmetrical distribution. All of them are skewed to the right. Since clustering algorithms require a normal distribution, normalization of the data is required.I am using Log transformation to deal with the skewness of data"
   ]
  },
  {
   "cell_type": "code",
   "execution_count": null,
   "metadata": {
    "id": "SMfHa_2OI8yd"
   },
   "outputs": [],
   "source": [
    "# Taking Log of columns\n",
    "df_rfm[\"log_R\"] = np.log(df_rfm.Recency)\n",
    "df_rfm[\"log_F\"] = np.log(df_rfm.Frequency)\n",
    "df_rfm[\"log_M\"] = np.log(df_rfm.Monetary)\n",
    "\n",
    "# Checking the distribution of Recency, Frequency and Monetary variables after log transformation\n"
   ]
  },
  {
   "cell_type": "code",
   "execution_count": null,
   "metadata": {
    "colab": {
     "base_uri": "https://localhost:8080/"
    },
    "id": "_yYBBRPhMOxH",
    "outputId": "2a061139-2027-4c29-fe16-874b54eade7a"
   },
   "outputs": [],
   "source": [
    "df_rfm[\"log_R\"]"
   ]
  },
  {
   "cell_type": "code",
   "execution_count": null,
   "metadata": {
    "colab": {
     "base_uri": "https://localhost:8080/",
     "height": 450
    },
    "id": "ijUfSr5DLIA0",
    "outputId": "b3ddd337-7ab7-44ba-efc3-0ff7f91ee9af"
   },
   "outputs": [],
   "source": [
    "print(\"                ----------------- Log Transformation Plots for R,F,M -------------------------------\")\n",
    "#plt.figure(figsize=(12,10))\n",
    "#sns.distplot(df_rfm['log_R']); plt.subplot(3, 1, 1)\n",
    "#sns.distplot(df_rfm['log_F']); plt.subplot(3, 1, 2)\n",
    "#sns.distplot(df_rfm['log_M']); plt.subplot(3, 1, 3)\n",
    "\n",
    "\n",
    "plt.figure(figsize=(12,10))\n",
    "# Plot distribution of var1\n",
    "#plt.subplot(3, 1, 1); sns.distplot(df_rfm['log_R'])\n",
    "# Plot distribution of var2\n",
    "plt.subplot(3, 1, 2); sns.distplot(df_rfm['log_F'])\n",
    "# Plot distribution of var3\n",
    "plt.subplot(3, 1, 3); sns.distplot(df_rfm['log_M'])"
   ]
  },
  {
   "cell_type": "code",
   "execution_count": null,
   "metadata": {
    "id": "xT8Zk0-_QHFj"
   },
   "outputs": [],
   "source": [
    "### Features Used in training K Means - Log Transformed Recency, Frequency and Monetary values\n",
    "data_norm = df_rfm[[\"log_F\", \"log_M\"]]\n",
    "\n",
    "#\"log_R\"??????\n",
    "# data_norm = df_rfm[[\"log_R\", \"log_F\", \"log_M\"]]\n",
    "\n",
    "plt.figure(figsize=(16,8))\n",
    "\n",
    "sns.scatterplot(x ='log_F', y='log_M', data=data_norm)\n",
    "plt.show()"
   ]
  },
  {
   "cell_type": "code",
   "execution_count": null,
   "metadata": {
    "colab": {
     "base_uri": "https://localhost:8080/",
     "height": 567
    },
    "id": "80u3_w1ZP31s",
    "outputId": "cce0f6f5-60d3-4056-e277-0c5cf201a4b2"
   },
   "outputs": [],
   "source": [
    "sns.pairplot(df_rfm_scaled)"
   ]
  },
  {
   "cell_type": "code",
   "execution_count": null,
   "metadata": {
    "id": "0VLOeEKnSqNq"
   },
   "outputs": [],
   "source": []
  },
  {
   "cell_type": "markdown",
   "metadata": {
    "id": "35c0aDixQGW4"
   },
   "source": [
    "## K-Means Implementation\n",
    "\n",
    "For k-means, you have to set k to the number of clusters you want, but figuring out how many clusters is not obvious from the beginning. We will try different cluster numbers and check their [silhouette coefficient](http://scikit-learn.org/stable/auto_examples/cluster/plot_kmeans_silhouette_analysis.html). The silhouette coefficient for a data point measures how similar it is to its assigned cluster from -1 (dissimilar) to 1 (similar). \n",
    "<br>\n",
    "<br>\n",
    "**Note**: K-means is sensitive to initializations because they are critical to qualifty of optima found. Thus, we will use smart initialization called \"Elbow Method\"."
   ]
  },
  {
   "cell_type": "markdown",
   "metadata": {
    "id": "JloMSEeriqbF"
   },
   "source": [
    "### i. Define the Optimal Number of Clusters"
   ]
  },
  {
   "cell_type": "code",
   "execution_count": null,
   "metadata": {
    "colab": {
     "base_uri": "https://localhost:8080/"
    },
    "id": "xnf4jwlgQ6oJ",
    "outputId": "06449e3a-bd41-40d4-845e-8703caf81042"
   },
   "outputs": [],
   "source": [
    "from sklearn.cluster import KMeans\n",
    "\n",
    "# k-means with some arbitrary k\n",
    "\n",
    "kmeans = KMeans(n_clusters=4, max_iter=50)\n",
    "kmeans.fit(df_rfm_scaled)"
   ]
  },
  {
   "cell_type": "code",
   "execution_count": null,
   "metadata": {
    "colab": {
     "base_uri": "https://localhost:8080/"
    },
    "id": "-gLYBr4tRDVt",
    "outputId": "09d4ee93-473c-468b-ed3d-2f9e967713d6"
   },
   "outputs": [],
   "source": [
    "kmeans.labels_"
   ]
  },
  {
   "cell_type": "markdown",
   "metadata": {
    "id": "McFq6IWZt5hg"
   },
   "source": [
    "[The Elbow Method](https://en.wikipedia.org/wiki/Elbow_method_(clustering) "
   ]
  },
  {
   "cell_type": "code",
   "execution_count": null,
   "metadata": {
    "colab": {
     "base_uri": "https://localhost:8080/",
     "height": 282
    },
    "id": "2202eo2riqbF",
    "outputId": "2c3edeb3-ab21-4bae-c9ef-2aaa64f673f8"
   },
   "outputs": [],
   "source": [
    "# Elbow-curve/SSD\n",
    "\n",
    "ssd = []\n",
    "range_n_clusters = [2, 3, 4, 5, 6, 7, 8]\n",
    "for num_clusters in range_n_clusters:\n",
    "    kmeans = KMeans(n_clusters=num_clusters, max_iter=50)\n",
    "    kmeans.fit(df_rfm_scaled)\n",
    "    \n",
    "    ssd.append(kmeans.inertia_)\n",
    "    \n",
    "# plot the SSDs for each n_clusters\n",
    "plt.plot(ssd)"
   ]
  },
  {
   "cell_type": "markdown",
   "metadata": {
    "id": "ACT_d0UpwUSC"
   },
   "source": [
    "[Silhouette Coefficient](http://scikit-learn.org/stable/auto_examples/cluster/plot_kmeans_silhouette_analysis.html)"
   ]
  },
  {
   "cell_type": "code",
   "execution_count": null,
   "metadata": {
    "colab": {
     "base_uri": "https://localhost:8080/"
    },
    "id": "qS4TLbRniqbG",
    "outputId": "1777ee2e-4f9c-484c-8ec3-5122a3748478"
   },
   "outputs": [],
   "source": [
    "# Silhouette analysis\n",
    "\n",
    "from sklearn.metrics import silhouette_score\n",
    "range_n_clusters = [2, 3, 4, 5, 6, 7, 8]\n",
    "\n",
    "for num_clusters in range_n_clusters:\n",
    "    \n",
    "    # intialise kmeans\n",
    "    kmeans = KMeans(n_clusters=num_clusters, max_iter=50)\n",
    "    kmeans.fit(df_rfm_scaled)\n",
    "    \n",
    "    cluster_labels = kmeans.labels_\n",
    "    \n",
    "    # silhouette score\n",
    "    silhouette_avg = silhouette_score(df_rfm_scaled, cluster_labels)\n",
    "    print(\"For n_clusters={0}, the silhouette score is {1}\".format(num_clusters, silhouette_avg))"
   ]
  },
  {
   "cell_type": "markdown",
   "metadata": {
    "id": "o6dW2MWZiqbG"
   },
   "source": [
    "### ii. Model Fitting"
   ]
  },
  {
   "cell_type": "markdown",
   "metadata": {
    "id": "cXM5ksoPiqbG"
   },
   "source": [
    "Fit the K-Means Algorithm with the optimal number of clusters you decided and save the model to disk."
   ]
  },
  {
   "cell_type": "code",
   "execution_count": null,
   "metadata": {
    "colab": {
     "base_uri": "https://localhost:8080/"
    },
    "id": "geMuViLniqbG",
    "outputId": "d3f67b8e-178c-4936-ea0a-54f8ec4d7b96"
   },
   "outputs": [],
   "source": [
    "# Final model with k=3\n",
    "kmeans = KMeans(n_clusters=3, max_iter=50)\n",
    "kmeans.fit(df_rfm_scaled)"
   ]
  },
  {
   "cell_type": "code",
   "execution_count": null,
   "metadata": {
    "colab": {
     "base_uri": "https://localhost:8080/"
    },
    "id": "96wxVzg8uS8r",
    "outputId": "7605371c-381d-4fdc-ec43-840efeb140b3"
   },
   "outputs": [],
   "source": [
    "kmeans.labels_"
   ]
  },
  {
   "cell_type": "markdown",
   "metadata": {
    "id": "GqcSwNZTQGW7"
   },
   "source": [
    "### iii. Visualize the Clusters"
   ]
  },
  {
   "cell_type": "markdown",
   "metadata": {
    "id": "Cfx5kzPriqbG"
   },
   "source": [
    "1. Create a scatter plot and select cluster centers"
   ]
  },
  {
   "cell_type": "code",
   "execution_count": null,
   "metadata": {
    "colab": {
     "base_uri": "https://localhost:8080/",
     "height": 466
    },
    "id": "cyrovJB0iqbH",
    "outputId": "9fd6a299-82fb-49c1-bb83-887e6d7f8afc"
   },
   "outputs": [],
   "source": [
    "plt.figure(figsize=(15,8))\n",
    "#sns.scatterplot(x='Age', y='Spending_Score', hue='cluster_Kmeans', data=x1, palette=\"bright\")\n",
    "sns.scatterplot( data= df_rfm_scaled, palette=\"bright\")\n",
    "centers = kmeans.cluster_centers_\n",
    "plt.scatter(centers[:, 0], centers[:, 1], c='black', s=300, alpha=0.5)"
   ]
  },
  {
   "cell_type": "markdown",
   "metadata": {
    "id": "D4sHOvlniqbH"
   },
   "source": [
    "2. Visualize Cluster Id vs Recency, Cluster Id vs Frequency and Cluster Id vs Monetary using Box plot. Also evaluate the results. "
   ]
  },
  {
   "cell_type": "code",
   "execution_count": null,
   "metadata": {
    "id": "lzPl-LXViqbH"
   },
   "outputs": [],
   "source": [
    "#ASAGIDA YAPILDI"
   ]
  },
  {
   "cell_type": "markdown",
   "metadata": {
    "id": "yRyku5qJiqbH"
   },
   "source": [
    "### iv. Assign the Label"
   ]
  },
  {
   "cell_type": "code",
   "execution_count": null,
   "metadata": {
    "id": "gVrkisf9iqbH"
   },
   "outputs": [],
   "source": [
    " kmeans.labels_"
   ]
  },
  {
   "cell_type": "code",
   "execution_count": null,
   "metadata": {
    "id": "L3tZaaLIRU7u"
   },
   "outputs": [],
   "source": [
    "# assign the label\n",
    "data_norm['Cluster_Id'] = kmeans.labels_\n",
    "data_norm.head()"
   ]
  },
  {
   "cell_type": "code",
   "execution_count": null,
   "metadata": {
    "id": "wxZhflwwRctk"
   },
   "outputs": [],
   "source": [
    "# Box plot to visualize Cluster Id vs Frequency\n",
    "\n",
    "sns.boxplot(x='Cluster_Id', y='Monetary', data=data_norm)"
   ]
  },
  {
   "cell_type": "code",
   "execution_count": null,
   "metadata": {
    "id": "wc1iZiiORf9p"
   },
   "outputs": [],
   "source": [
    "# Box plot to visualize Cluster Id vs Frequency\n",
    "\n",
    "sns.boxplot(x='Cluster_Id', y='Frequency', data=data_norm)"
   ]
  },
  {
   "cell_type": "code",
   "execution_count": null,
   "metadata": {
    "id": "n_f-CxwoRifY"
   },
   "outputs": [],
   "source": [
    "# Box plot to visualize Cluster Id vs Recency\n",
    "\n",
    "sns.boxplot(x='Cluster_Id', y='Recency', data=data_norm)"
   ]
  },
  {
   "cell_type": "markdown",
   "metadata": {
    "id": "lf4OsPmSQGXA"
   },
   "source": [
    "### v. Conclusion\n",
    "\n",
    "Discuss your final results. Compare your own labels from the RFM Customer Segmentation with the labels found by K-Means."
   ]
  },
  {
   "cell_type": "markdown",
   "metadata": {
    "id": "UFaHgoLoQGXA"
   },
   "source": [
    "How we want to continue this analysis depends on how the business plans to use the results and the level of granularity the business stakeholders want to see in the clusters. We can also ask what range of customer behavior from high to low value customers are the stakeholders interested in exploring. From those answers, various methods of clustering can be used and applied on RFM variable or directly on the transaction data set."
   ]
  },
  {
   "cell_type": "markdown",
   "metadata": {
    "id": "ysCkU1B-iqbI"
   },
   "source": [
    "**Annotation:**\n",
    "\n",
    "Limitations of K-means clustering:\n",
    "\n",
    "1. There is no assurance that it will lead to the global best solution.\n",
    "2. Can't deal with different shapes(not circular) and consider one point's probability of belonging to more than one cluster.\n",
    "\n",
    "These disadvantages of K-means show that for many datasets (especially low-dimensional datasets), it may not perform as well as you might hope."
   ]
  },
  {
   "cell_type": "markdown",
   "metadata": {
    "id": "_DiG6sxS4gWH"
   },
   "source": [
    "**Conclusion**\n",
    "\n",
    "* Write down your conclusions about clustering "
   ]
  },
  {
   "cell_type": "markdown",
   "metadata": {
    "id": "XCctD1NSoc1S"
   },
   "source": [
    "K-Means Clustering with 3 Cluster Ids\n",
    "\n",
    "Customers with Cluster Id 1 are the customers with high amount of transactions as compared to other customers.\n",
    "Customers with Cluster Id 1 are frequent buyers.\n",
    "Customers with Cluster Id 2 are not recent buyers and hence least of importance from business point of view."
   ]
  },
  {
   "cell_type": "code",
   "execution_count": null,
   "metadata": {
    "id": "a4-NeZg0OxeE"
   },
   "outputs": [],
   "source": []
  },
  {
   "cell_type": "markdown",
   "metadata": {
    "id": "xiPd_IbnQGVn"
   },
   "source": [
    "# 5. Create Cohort & Conduct Cohort Analysis\n",
    "[Cohort Analysis](https://medium.com/swlh/cohort-analysis-using-python-and-pandas-d2a60f4d0a4d) is specifically useful in analyzing user growth patterns for products. In terms of a product, a cohort can be a group of people with the same sign-up date, the same usage starts month/date, or the same traffic source.\n",
    "Cohort analysis is an analytics method by which these groups can be tracked over time for finding key insights. This analysis can further be used to do customer segmentation and track metrics like retention, churn, and lifetime value.\n",
    "\n",
    "For e-commerce organizations, cohort analysis is a unique opportunity to find out which clients are the most valuable to their business. by performing Cohort analysis you can get the following answers to the following questions:\n",
    "\n",
    "- How much effective was a marketing campaign held in a particular time period?\n",
    "- Did the strategy employ to improve the conversion rates of Customers worked?\n",
    "- Should I focus more on retention rather than acquiring new customers?\n",
    "- Are my customer nurturing strategies effective?\n",
    "- Which marketing channels bring me the best results?\n",
    "- Is there a seasonality pattern in Customer behavior?\n",
    "- Along with various performance measures/metrics for your organization."
   ]
  },
  {
   "cell_type": "markdown",
   "metadata": {
    "id": "xhiYivPrQGVo"
   },
   "source": [
    "Since we will be performing Cohort Analysis based on transaction records of customers, the columns we will be dealing with mainly:\n",
    "- Invoice Data\n",
    "- CustomerID\n",
    "- Price\n",
    "- Quantity\n",
    "\n",
    "The following steps will performed to generate the Cohort Chart of Retention Rate:\n",
    "- Month Extraction from InvioceDate column\n",
    "- Assigning Cohort to Each Transaction\n",
    "- Assigning Cohort Index to each transaction\n",
    "- Calculating number of unique customers in each Group of (ChortDate,Index)\n",
    "- Creating Cohort Table for Retention Rate\n",
    "- Creating the Cohort Chart using the Cohort Table\n",
    "\n",
    "The Detailed information about each step is given below:"
   ]
  },
  {
   "cell_type": "markdown",
   "metadata": {
    "id": "eo0GB_osiqbI"
   },
   "source": [
    "## Future Engineering"
   ]
  },
  {
   "cell_type": "markdown",
   "metadata": {
    "id": "JVwPNjpyQGVo"
   },
   "source": [
    "### i. Extract the Month of the Purchase\n",
    "First we will create a function, which takes any date and returns the formatted date with day value as 1st of the same month and Year."
   ]
  },
  {
   "cell_type": "code",
   "execution_count": null,
   "metadata": {
    "id": "lK1CqlNQiqbI"
   },
   "outputs": [],
   "source": []
  },
  {
   "cell_type": "markdown",
   "metadata": {
    "id": "NQKsM_9IQGVq"
   },
   "source": [
    "Now we will use the function created above to convert all the invoice dates into respective month date format."
   ]
  },
  {
   "cell_type": "code",
   "execution_count": null,
   "metadata": {
    "id": "DL17u0dniqbJ"
   },
   "outputs": [],
   "source": []
  },
  {
   "cell_type": "markdown",
   "metadata": {
    "id": "XPE7kTz2QGVs"
   },
   "source": [
    "### ii. Calculating time offset in Months i.e. Cohort Index:\n",
    "Calculating time offset for each transaction will allows us to report the metrics for each cohort in a comparable fashion.\n",
    "First, you will create 4 variables that capture the integer value of years, months for Invoice and Cohort Date using the get_date_int() function which you'll create it below."
   ]
  },
  {
   "cell_type": "code",
   "execution_count": null,
   "metadata": {
    "id": "1_3aYf4FiqbJ"
   },
   "outputs": [],
   "source": []
  },
  {
   "cell_type": "markdown",
   "metadata": {
    "id": "SGm1eweDQGVu"
   },
   "source": [
    "You will use this function to extract the integer values for Invoice as well as Cohort Date in 3 separate series for each of the two columns"
   ]
  },
  {
   "cell_type": "code",
   "execution_count": null,
   "metadata": {
    "id": "2wF_ViD_iqbJ"
   },
   "outputs": [],
   "source": []
  },
  {
   "cell_type": "markdown",
   "metadata": {
    "id": "Z9jYVljviqbJ"
   },
   "source": [
    "Use the variables created above to calcualte the difference in days and store them in cohort Index column."
   ]
  },
  {
   "cell_type": "code",
   "execution_count": null,
   "metadata": {
    "id": "wVlAYCbEiqbJ"
   },
   "outputs": [],
   "source": []
  },
  {
   "cell_type": "markdown",
   "metadata": {
    "id": "W-t76CXSQGVw"
   },
   "source": [
    "## Create 1st Cohort: User number & Retention Rate"
   ]
  },
  {
   "cell_type": "markdown",
   "metadata": {
    "id": "bKvUWci9iqbJ"
   },
   "source": [
    "### i. Pivot Cohort and Cohort Retention"
   ]
  },
  {
   "cell_type": "code",
   "execution_count": null,
   "metadata": {
    "id": "U-8HzlZWiqbK"
   },
   "outputs": [],
   "source": []
  },
  {
   "cell_type": "markdown",
   "metadata": {
    "id": "63TIyBY6iqbK"
   },
   "source": [
    "### ii. Visualize analysis of cohort 1 using seaborn and matplotlib modules"
   ]
  },
  {
   "cell_type": "code",
   "execution_count": null,
   "metadata": {
    "id": "SY7mPvCAiqbK"
   },
   "outputs": [],
   "source": []
  },
  {
   "cell_type": "markdown",
   "metadata": {
    "id": "yORYolvqQGV0"
   },
   "source": [
    "## Create the 2nd Cohort: Average Quantity Sold"
   ]
  },
  {
   "cell_type": "markdown",
   "metadata": {
    "id": "Tu1hM3CFiqbK"
   },
   "source": [
    "### i. Pivot Cohort and Cohort Retention"
   ]
  },
  {
   "cell_type": "code",
   "execution_count": null,
   "metadata": {
    "id": "yQ8jlhPEiqbK"
   },
   "outputs": [],
   "source": []
  },
  {
   "cell_type": "markdown",
   "metadata": {
    "id": "F3PJHMS6iqbK"
   },
   "source": [
    "### ii. Visualize analysis of cohort 2 using seaborn and matplotlib modules"
   ]
  },
  {
   "cell_type": "code",
   "execution_count": null,
   "metadata": {
    "id": "9vuHi3wPiqbK"
   },
   "outputs": [],
   "source": []
  },
  {
   "cell_type": "markdown",
   "metadata": {
    "id": "UUoG5yUIQGV3"
   },
   "source": [
    "## Create the 3rd Cohort: Average Sales\n"
   ]
  },
  {
   "cell_type": "markdown",
   "metadata": {
    "id": "EKNS-mO5iqbL"
   },
   "source": [
    "### i. Pivot Cohort and Cohort Retention"
   ]
  },
  {
   "cell_type": "code",
   "execution_count": null,
   "metadata": {
    "id": "t2s-zyWeiqbL"
   },
   "outputs": [],
   "source": []
  },
  {
   "cell_type": "markdown",
   "metadata": {
    "id": "tRGOpeUPiqbL"
   },
   "source": [
    "### ii. Visualize analysis of cohort 3 using seaborn and matplotlib modules"
   ]
  },
  {
   "cell_type": "code",
   "execution_count": null,
   "metadata": {
    "id": "EYkkDncXiqbL"
   },
   "outputs": [],
   "source": []
  },
  {
   "cell_type": "markdown",
   "metadata": {
    "id": "uD9lu1ExQGV5"
   },
   "source": [
    "For e-commerce organisations, cohort analysis is a unique opportunity to find out which clients are the most valuable to their business. by performing Cohort analysis you can get answers to following questions:\n",
    "\n",
    "- How much effective was a marketing campaign held in a particular time period?\n",
    "- Did the strategy employed to improve the conversion rates of Customers worked?\n",
    "- Should I focus more on retention rather than acquiring new customers?\n",
    "- Are my customer nurturing strategies effective?\n",
    "- Which marketing channels bring me the best results?\n",
    "- Is there a seasoanlity pattern in Customer behahiour?"
   ]
  },
  {
   "cell_type": "markdown",
   "metadata": {
    "id": "ZX_Y6S36iqbL"
   },
   "source": [
    "___\n",
    "\n",
    "<p style=\"text-align: center;\"><img src=\"https://docs.google.com/uc?id=1lY0Uj5R04yMY3-ZppPWxqCr5pvBLYPnV\" class=\"img-fluid\" alt=\"CLRSWY\"></p>\n",
    "\n",
    "___"
   ]
  }
 ],
 "metadata": {
  "accelerator": "GPU",
  "colab": {
   "provenance": []
  },
  "gpuClass": "standard",
  "kernelspec": {
   "display_name": "Python 3 (ipykernel)",
   "language": "python",
   "name": "python3"
  },
  "language_info": {
   "codemirror_mode": {
    "name": "ipython",
    "version": 3
   },
   "file_extension": ".py",
   "mimetype": "text/x-python",
   "name": "python",
   "nbconvert_exporter": "python",
   "pygments_lexer": "ipython3",
   "version": "3.9.12"
  },
  "toc": {
   "base_numbering": 1,
   "nav_menu": {},
   "number_sections": true,
   "sideBar": true,
   "skip_h1_title": false,
   "title_cell": "Table of Contents",
   "title_sidebar": "Contents",
   "toc_cell": false,
   "toc_position": {
    "height": "calc(100% - 180px)",
    "left": "10px",
    "top": "150px",
    "width": "321.771px"
   },
   "toc_section_display": true,
   "toc_window_display": true
  },
  "varInspector": {
   "cols": {
    "lenName": 16,
    "lenType": 16,
    "lenVar": 40
   },
   "kernels_config": {
    "python": {
     "delete_cmd_postfix": "",
     "delete_cmd_prefix": "del ",
     "library": "var_list.py",
     "varRefreshCmd": "print(var_dic_list())"
    },
    "r": {
     "delete_cmd_postfix": ") ",
     "delete_cmd_prefix": "rm(",
     "library": "var_list.r",
     "varRefreshCmd": "cat(var_dic_list()) "
    }
   },
   "types_to_exclude": [
    "module",
    "function",
    "builtin_function_or_method",
    "instance",
    "_Feature"
   ],
   "window_display": false
  }
 },
 "nbformat": 4,
 "nbformat_minor": 1
}
